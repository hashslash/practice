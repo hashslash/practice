{
 "cells": [
  {
   "cell_type": "markdown",
   "metadata": {},
   "source": [
    "#### Datasets"
   ]
  },
  {
   "cell_type": "code",
   "execution_count": 1,
   "metadata": {},
   "outputs": [],
   "source": [
    "import tensorflow as tf\n",
    "from tensorflow import keras as kr"
   ]
  },
  {
   "cell_type": "code",
   "execution_count": 2,
   "metadata": {},
   "outputs": [
    {
     "name": "stdout",
     "output_type": "stream",
     "text": [
      "2.1.0\n",
      "2.2.4-tf\n"
     ]
    }
   ],
   "source": [
    "print(tf.__version__)\n",
    "print(kr.__version__)"
   ]
  },
  {
   "cell_type": "code",
   "execution_count": 3,
   "metadata": {},
   "outputs": [
    {
     "data": {
      "text/plain": [
       "\u001b[1;31mType:\u001b[0m        module\n",
       "\u001b[1;31mString form:\u001b[0m <module 'tensorflow_core.python.keras.api._v2.keras.datasets' from 'C:\\\\src\\\\python\\\\envs\\\\ml\\\\tensorflow\\\\lib\\\\site-packages\\\\tensorflow_core\\\\python\\\\keras\\\\api\\\\_v2\\\\keras\\\\datasets\\\\__init__.py'>\n",
       "\u001b[1;31mFile:\u001b[0m        c:\\src\\python\\envs\\ml\\tensorflow\\lib\\site-packages\\tensorflow_core\\python\\keras\\api\\_v2\\keras\\datasets\\__init__.py\n",
       "\u001b[1;31mDocstring:\u001b[0m   Public API for tf.keras.datasets namespace.\n"
      ]
     },
     "metadata": {},
     "output_type": "display_data"
    }
   ],
   "source": [
    "kr.datasets?"
   ]
  },
  {
   "cell_type": "code",
   "execution_count": 4,
   "metadata": {},
   "outputs": [
    {
     "data": {
      "text/plain": [
       "\u001b[1;31mSignature:\u001b[0m \u001b[0mkr\u001b[0m\u001b[1;33m.\u001b[0m\u001b[0mdatasets\u001b[0m\u001b[1;33m.\u001b[0m\u001b[0mmnist\u001b[0m\u001b[1;33m.\u001b[0m\u001b[0mload_data\u001b[0m\u001b[1;33m(\u001b[0m\u001b[0mpath\u001b[0m\u001b[1;33m=\u001b[0m\u001b[1;34m'mnist.npz'\u001b[0m\u001b[1;33m)\u001b[0m\u001b[1;33m\u001b[0m\u001b[1;33m\u001b[0m\u001b[0m\n",
       "\u001b[1;31mDocstring:\u001b[0m\n",
       "Loads the MNIST dataset.\n",
       "\n",
       "Arguments:\n",
       "    path: path where to cache the dataset locally\n",
       "        (relative to ~/.keras/datasets).\n",
       "\n",
       "Returns:\n",
       "    Tuple of Numpy arrays: `(x_train, y_train), (x_test, y_test)`.\n",
       "\n",
       "License:\n",
       "    Yann LeCun and Corinna Cortes hold the copyright of MNIST dataset,\n",
       "    which is a derivative work from original NIST datasets.\n",
       "    MNIST dataset is made available under the terms of the\n",
       "    [Creative Commons Attribution-Share Alike 3.0 license.](\n",
       "    https://creativecommons.org/licenses/by-sa/3.0/)\n",
       "\u001b[1;31mFile:\u001b[0m      c:\\src\\python\\envs\\ml\\tensorflow\\lib\\site-packages\\tensorflow_core\\python\\keras\\datasets\\mnist.py\n",
       "\u001b[1;31mType:\u001b[0m      function\n"
      ]
     },
     "metadata": {},
     "output_type": "display_data"
    }
   ],
   "source": [
    "kr.datasets.mnist.load_data?"
   ]
  },
  {
   "cell_type": "code",
   "execution_count": 5,
   "metadata": {},
   "outputs": [
    {
     "name": "stdout",
     "output_type": "stream",
     "text": [
      "Downloading data from https://storage.googleapis.com/tensorflow/tf-keras-datasets/mnist.npz\n",
      "11493376/11490434 [==============================] - 13s 1us/step\n"
     ]
    }
   ],
   "source": [
    "(x_train, y_train), (x_test, y_test) = kr.datasets.mnist.load_data()"
   ]
  },
  {
   "cell_type": "code",
   "execution_count": 50,
   "metadata": {},
   "outputs": [
    {
     "name": "stdout",
     "output_type": "stream",
     "text": [
      "(60000, 28, 28)\n",
      "(10000, 28, 28)\n"
     ]
    }
   ],
   "source": [
    "print(x_train.shape)\n",
    "print(x_test.shape)"
   ]
  },
  {
   "cell_type": "markdown",
   "metadata": {},
   "source": [
    "#### Plotting through numpy"
   ]
  },
  {
   "cell_type": "code",
   "execution_count": 10,
   "metadata": {},
   "outputs": [],
   "source": [
    "import numpy as np"
   ]
  },
  {
   "cell_type": "code",
   "execution_count": 12,
   "metadata": {},
   "outputs": [
    {
     "data": {
      "text/plain": [
       "\u001b[1;31mSignature:\u001b[0m\n",
       "\u001b[0mnp\u001b[0m\u001b[1;33m.\u001b[0m\u001b[0mset_printoptions\u001b[0m\u001b[1;33m(\u001b[0m\u001b[1;33m\n",
       "\u001b[0m    \u001b[0mprecision\u001b[0m\u001b[1;33m=\u001b[0m\u001b[1;32mNone\u001b[0m\u001b[1;33m,\u001b[0m\u001b[1;33m\n",
       "\u001b[0m    \u001b[0mthreshold\u001b[0m\u001b[1;33m=\u001b[0m\u001b[1;32mNone\u001b[0m\u001b[1;33m,\u001b[0m\u001b[1;33m\n",
       "\u001b[0m    \u001b[0medgeitems\u001b[0m\u001b[1;33m=\u001b[0m\u001b[1;32mNone\u001b[0m\u001b[1;33m,\u001b[0m\u001b[1;33m\n",
       "\u001b[0m    \u001b[0mlinewidth\u001b[0m\u001b[1;33m=\u001b[0m\u001b[1;32mNone\u001b[0m\u001b[1;33m,\u001b[0m\u001b[1;33m\n",
       "\u001b[0m    \u001b[0msuppress\u001b[0m\u001b[1;33m=\u001b[0m\u001b[1;32mNone\u001b[0m\u001b[1;33m,\u001b[0m\u001b[1;33m\n",
       "\u001b[0m    \u001b[0mnanstr\u001b[0m\u001b[1;33m=\u001b[0m\u001b[1;32mNone\u001b[0m\u001b[1;33m,\u001b[0m\u001b[1;33m\n",
       "\u001b[0m    \u001b[0minfstr\u001b[0m\u001b[1;33m=\u001b[0m\u001b[1;32mNone\u001b[0m\u001b[1;33m,\u001b[0m\u001b[1;33m\n",
       "\u001b[0m    \u001b[0mformatter\u001b[0m\u001b[1;33m=\u001b[0m\u001b[1;32mNone\u001b[0m\u001b[1;33m,\u001b[0m\u001b[1;33m\n",
       "\u001b[0m    \u001b[0msign\u001b[0m\u001b[1;33m=\u001b[0m\u001b[1;32mNone\u001b[0m\u001b[1;33m,\u001b[0m\u001b[1;33m\n",
       "\u001b[0m    \u001b[0mfloatmode\u001b[0m\u001b[1;33m=\u001b[0m\u001b[1;32mNone\u001b[0m\u001b[1;33m,\u001b[0m\u001b[1;33m\n",
       "\u001b[0m    \u001b[1;33m**\u001b[0m\u001b[0mkwarg\u001b[0m\u001b[1;33m,\u001b[0m\u001b[1;33m\n",
       "\u001b[0m\u001b[1;33m)\u001b[0m\u001b[1;33m\u001b[0m\u001b[1;33m\u001b[0m\u001b[0m\n",
       "\u001b[1;31mDocstring:\u001b[0m\n",
       "Set printing options.\n",
       "\n",
       "These options determine the way floating point numbers, arrays and\n",
       "other NumPy objects are displayed.\n",
       "\n",
       "Parameters\n",
       "----------\n",
       "precision : int or None, optional\n",
       "    Number of digits of precision for floating point output (default 8).\n",
       "    May be None if `floatmode` is not `fixed`, to print as many digits as\n",
       "    necessary to uniquely specify the value.\n",
       "threshold : int, optional\n",
       "    Total number of array elements which trigger summarization\n",
       "    rather than full repr (default 1000).\n",
       "    To always use the full repr without summarization, pass `sys.maxsize`.\n",
       "edgeitems : int, optional\n",
       "    Number of array items in summary at beginning and end of\n",
       "    each dimension (default 3).\n",
       "linewidth : int, optional\n",
       "    The number of characters per line for the purpose of inserting\n",
       "    line breaks (default 75).\n",
       "suppress : bool, optional\n",
       "    If True, always print floating point numbers using fixed point\n",
       "    notation, in which case numbers equal to zero in the current precision\n",
       "    will print as zero.  If False, then scientific notation is used when\n",
       "    absolute value of the smallest number is < 1e-4 or the ratio of the\n",
       "    maximum absolute value to the minimum is > 1e3. The default is False.\n",
       "nanstr : str, optional\n",
       "    String representation of floating point not-a-number (default nan).\n",
       "infstr : str, optional\n",
       "    String representation of floating point infinity (default inf).\n",
       "sign : string, either '-', '+', or ' ', optional\n",
       "    Controls printing of the sign of floating-point types. If '+', always\n",
       "    print the sign of positive values. If ' ', always prints a space\n",
       "    (whitespace character) in the sign position of positive values.  If\n",
       "    '-', omit the sign character of positive values. (default '-')\n",
       "formatter : dict of callables, optional\n",
       "    If not None, the keys should indicate the type(s) that the respective\n",
       "    formatting function applies to.  Callables should return a string.\n",
       "    Types that are not specified (by their corresponding keys) are handled\n",
       "    by the default formatters.  Individual types for which a formatter\n",
       "    can be set are:\n",
       "\n",
       "    - 'bool'\n",
       "    - 'int'\n",
       "    - 'timedelta' : a `numpy.timedelta64`\n",
       "    - 'datetime' : a `numpy.datetime64`\n",
       "    - 'float'\n",
       "    - 'longfloat' : 128-bit floats\n",
       "    - 'complexfloat'\n",
       "    - 'longcomplexfloat' : composed of two 128-bit floats\n",
       "    - 'numpystr' : types `numpy.string_` and `numpy.unicode_`\n",
       "    - 'object' : `np.object_` arrays\n",
       "    - 'str' : all other strings\n",
       "\n",
       "    Other keys that can be used to set a group of types at once are:\n",
       "\n",
       "    - 'all' : sets all types\n",
       "    - 'int_kind' : sets 'int'\n",
       "    - 'float_kind' : sets 'float' and 'longfloat'\n",
       "    - 'complex_kind' : sets 'complexfloat' and 'longcomplexfloat'\n",
       "    - 'str_kind' : sets 'str' and 'numpystr'\n",
       "floatmode : str, optional\n",
       "    Controls the interpretation of the `precision` option for\n",
       "    floating-point types. Can take the following values\n",
       "    (default maxprec_equal):\n",
       "\n",
       "    * 'fixed': Always print exactly `precision` fractional digits,\n",
       "            even if this would print more or fewer digits than\n",
       "            necessary to specify the value uniquely.\n",
       "    * 'unique': Print the minimum number of fractional digits necessary\n",
       "            to represent each value uniquely. Different elements may\n",
       "            have a different number of digits. The value of the\n",
       "            `precision` option is ignored.\n",
       "    * 'maxprec': Print at most `precision` fractional digits, but if\n",
       "            an element can be uniquely represented with fewer digits\n",
       "            only print it with that many.\n",
       "    * 'maxprec_equal': Print at most `precision` fractional digits,\n",
       "            but if every element in the array can be uniquely\n",
       "            represented with an equal number of fewer digits, use that\n",
       "            many digits for all elements.\n",
       "legacy : string or `False`, optional\n",
       "    If set to the string `'1.13'` enables 1.13 legacy printing mode. This\n",
       "    approximates numpy 1.13 print output by including a space in the sign\n",
       "    position of floats and different behavior for 0d arrays. If set to\n",
       "    `False`, disables legacy mode. Unrecognized strings will be ignored\n",
       "    with a warning for forward compatibility.\n",
       "\n",
       "    .. versionadded:: 1.14.0\n",
       "\n",
       "See Also\n",
       "--------\n",
       "get_printoptions, printoptions, set_string_function, array2string\n",
       "\n",
       "Notes\n",
       "-----\n",
       "`formatter` is always reset with a call to `set_printoptions`.\n",
       "\n",
       "Use `printoptions` as a context manager to set the values temporarily.\n",
       "\n",
       "Examples\n",
       "--------\n",
       "Floating point precision can be set:\n",
       "\n",
       ">>> np.set_printoptions(precision=4)\n",
       ">>> np.array([1.123456789])\n",
       "[1.1235]\n",
       "\n",
       "Long arrays can be summarised:\n",
       "\n",
       ">>> np.set_printoptions(threshold=5)\n",
       ">>> np.arange(10)\n",
       "array([0, 1, 2, ..., 7, 8, 9])\n",
       "\n",
       "Small results can be suppressed:\n",
       "\n",
       ">>> eps = np.finfo(float).eps\n",
       ">>> x = np.arange(4.)\n",
       ">>> x**2 - (x + eps)**2\n",
       "array([-4.9304e-32, -4.4409e-16,  0.0000e+00,  0.0000e+00])\n",
       ">>> np.set_printoptions(suppress=True)\n",
       ">>> x**2 - (x + eps)**2\n",
       "array([-0., -0.,  0.,  0.])\n",
       "\n",
       "A custom formatter can be used to display array elements as desired:\n",
       "\n",
       ">>> np.set_printoptions(formatter={'all':lambda x: 'int: '+str(-x)})\n",
       ">>> x = np.arange(3)\n",
       ">>> x\n",
       "array([int: 0, int: -1, int: -2])\n",
       ">>> np.set_printoptions()  # formatter gets reset\n",
       ">>> x\n",
       "array([0, 1, 2])\n",
       "\n",
       "To put back the default options, you can use:\n",
       "\n",
       ">>> np.set_printoptions(edgeitems=3, infstr='inf',\n",
       "... linewidth=75, nanstr='nan', precision=8,\n",
       "... suppress=False, threshold=1000, formatter=None)\n",
       "\n",
       "Also to temporarily override options, use `printoptions` as a context manager:\n",
       "\n",
       ">>> with np.printoptions(precision=2, suppress=True, threshold=5):\n",
       "...     np.linspace(0, 10, 10)\n",
       "array([ 0.  ,  1.11,  2.22, ...,  7.78,  8.89, 10.  ])\n",
       "\u001b[1;31mFile:\u001b[0m      c:\\src\\python\\envs\\ml\\tensorflow\\lib\\site-packages\\numpy\\core\\arrayprint.py\n",
       "\u001b[1;31mType:\u001b[0m      function\n"
      ]
     },
     "metadata": {},
     "output_type": "display_data"
    }
   ],
   "source": [
    "np.set_printoptions?"
   ]
  },
  {
   "cell_type": "code",
   "execution_count": 32,
   "metadata": {},
   "outputs": [
    {
     "name": "stdout",
     "output_type": "stream",
     "text": [
      "[[  0   0   0   0   0   0   0   0   0   0   0   0   0   0   0   0   0   0   0   0   0   0   0   0   0   0   0   0]\n",
      " [  0   0   0   0   0   0   0   0   0   0   0   0   0   0   0   0   0   0   0   0   0   0   0   0   0   0   0   0]\n",
      " [  0   0   0   0   0   0   0   0   0   0   0   0   0   0   0   0   0   0   0   0   0   0   0   0   0   0   0   0]\n",
      " [  0   0   0   0   0   0   0   0   0   0   0   0   0   0   0   0   0   0   0   0   0   0   0   0   0   0   0   0]\n",
      " [  0   0   0   0   0   0   0   0   0   0   0   0   0   0   0   0   0   0   0   0   0   0   0   0   0   0   0   0]\n",
      " [  0   0   0   0   0   0   0   0   0   0   0   0   3  18  18  18 126 136 175  26 166 255 247 127   0   0   0   0]\n",
      " [  0   0   0   0   0   0   0   0  30  36  94 154 170 253 253 253 253 253 225 172 253 242 195  64   0   0   0   0]\n",
      " [  0   0   0   0   0   0   0  49 238 253 253 253 253 253 253 253 253 251  93  82  82  56  39   0   0   0   0   0]\n",
      " [  0   0   0   0   0   0   0  18 219 253 253 253 253 253 198 182 247 241   0   0   0   0   0   0   0   0   0   0]\n",
      " [  0   0   0   0   0   0   0   0  80 156 107 253 253 205  11   0  43 154   0   0   0   0   0   0   0   0   0   0]\n",
      " [  0   0   0   0   0   0   0   0   0  14   1 154 253  90   0   0   0   0   0   0   0   0   0   0   0   0   0   0]\n",
      " [  0   0   0   0   0   0   0   0   0   0   0 139 253 190   2   0   0   0   0   0   0   0   0   0   0   0   0   0]\n",
      " [  0   0   0   0   0   0   0   0   0   0   0  11 190 253  70   0   0   0   0   0   0   0   0   0   0   0   0   0]\n",
      " [  0   0   0   0   0   0   0   0   0   0   0   0  35 241 225 160 108   1   0   0   0   0   0   0   0   0   0   0]\n",
      " [  0   0   0   0   0   0   0   0   0   0   0   0   0  81 240 253 253 119  25   0   0   0   0   0   0   0   0   0]\n",
      " [  0   0   0   0   0   0   0   0   0   0   0   0   0   0  45 186 253 253 150  27   0   0   0   0   0   0   0   0]\n",
      " [  0   0   0   0   0   0   0   0   0   0   0   0   0   0   0  16  93 252 253 187   0   0   0   0   0   0   0   0]\n",
      " [  0   0   0   0   0   0   0   0   0   0   0   0   0   0   0   0   0 249 253 249  64   0   0   0   0   0   0   0]\n",
      " [  0   0   0   0   0   0   0   0   0   0   0   0   0   0  46 130 183 253 253 207   2   0   0   0   0   0   0   0]\n",
      " [  0   0   0   0   0   0   0   0   0   0   0   0  39 148 229 253 253 253 250 182   0   0   0   0   0   0   0   0]\n",
      " [  0   0   0   0   0   0   0   0   0   0  24 114 221 253 253 253 253 201  78   0   0   0   0   0   0   0   0   0]\n",
      " [  0   0   0   0   0   0   0   0  23  66 213 253 253 253 253 198  81   2   0   0   0   0   0   0   0   0   0   0]\n",
      " [  0   0   0   0   0   0  18 171 219 253 253 253 253 195  80   9   0   0   0   0   0   0   0   0   0   0   0   0]\n",
      " [  0   0   0   0  55 172 226 253 253 253 253 244 133  11   0   0   0   0   0   0   0   0   0   0   0   0   0   0]\n",
      " [  0   0   0   0 136 253 253 253 212 135 132  16   0   0   0   0   0   0   0   0   0   0   0   0   0   0   0   0]\n",
      " [  0   0   0   0   0   0   0   0   0   0   0   0   0   0   0   0   0   0   0   0   0   0   0   0   0   0   0   0]\n",
      " [  0   0   0   0   0   0   0   0   0   0   0   0   0   0   0   0   0   0   0   0   0   0   0   0   0   0   0   0]\n",
      " [  0   0   0   0   0   0   0   0   0   0   0   0   0   0   0   0   0   0   0   0   0   0   0   0   0   0   0   0]]\n",
      "5\n",
      "[[  0   0   0   0   0   0   0   0   0   0   0   0   0   0   0   0   0   0   0   0   0   0   0   0   0   0   0   0]\n",
      " [  0   0   0   0   0   0   0   0   0   0   0   0   0   0   0   0   0   0   0   0   0   0   0   0   0   0   0   0]\n",
      " [  0   0   0   0   0   0   0   0   0   0   0   0   0   0   0   0   0   0   0   0   0   0   0   0   0   0   0   0]\n",
      " [  0   0   0   0   0   0   0   0   0   0   0   0   0   0   0   0   0   0   0   0   0   0   0   0   0   0   0   0]\n",
      " [  0   0   0   0   0   0   0   0   0   0   0   0   0   0   0   0   0   0   0   0   0   0   0   0   0   0   0   0]\n",
      " [  0   0   0   0   0   0   0   0   0   0   0   0   0   0   0   0   0   0   0   0   0   0   0   0   0   0   0   0]\n",
      " [  0   0   0   0   0   0   0   0   0   0   0   0   0   0   0   0   0   0   0   0   0   0   0   0   0   0   0   0]\n",
      " [  0   0   0   0   0   0  84 185 159 151  60  36   0   0   0   0   0   0   0   0   0   0   0   0   0   0   0   0]\n",
      " [  0   0   0   0   0   0 222 254 254 254 254 241 198 198 198 198 198 198 198 198 170  52   0   0   0   0   0   0]\n",
      " [  0   0   0   0   0   0  67 114  72 114 163 227 254 225 254 254 254 250 229 254 254 140   0   0   0   0   0   0]\n",
      " [  0   0   0   0   0   0   0   0   0   0   0  17  66  14  67  67  67  59  21 236 254 106   0   0   0   0   0   0]\n",
      " [  0   0   0   0   0   0   0   0   0   0   0   0   0   0   0   0   0   0  83 253 209  18   0   0   0   0   0   0]\n",
      " [  0   0   0   0   0   0   0   0   0   0   0   0   0   0   0   0   0  22 233 255  83   0   0   0   0   0   0   0]\n",
      " [  0   0   0   0   0   0   0   0   0   0   0   0   0   0   0   0   0 129 254 238  44   0   0   0   0   0   0   0]\n",
      " [  0   0   0   0   0   0   0   0   0   0   0   0   0   0   0   0  59 249 254  62   0   0   0   0   0   0   0   0]\n",
      " [  0   0   0   0   0   0   0   0   0   0   0   0   0   0   0   0 133 254 187   5   0   0   0   0   0   0   0   0]\n",
      " [  0   0   0   0   0   0   0   0   0   0   0   0   0   0   0   9 205 248  58   0   0   0   0   0   0   0   0   0]\n",
      " [  0   0   0   0   0   0   0   0   0   0   0   0   0   0   0 126 254 182   0   0   0   0   0   0   0   0   0   0]\n",
      " [  0   0   0   0   0   0   0   0   0   0   0   0   0   0  75 251 240  57   0   0   0   0   0   0   0   0   0   0]\n",
      " [  0   0   0   0   0   0   0   0   0   0   0   0   0  19 221 254 166   0   0   0   0   0   0   0   0   0   0   0]\n",
      " [  0   0   0   0   0   0   0   0   0   0   0   0   3 203 254 219  35   0   0   0   0   0   0   0   0   0   0   0]\n",
      " [  0   0   0   0   0   0   0   0   0   0   0   0  38 254 254  77   0   0   0   0   0   0   0   0   0   0   0   0]\n",
      " [  0   0   0   0   0   0   0   0   0   0   0  31 224 254 115   1   0   0   0   0   0   0   0   0   0   0   0   0]\n",
      " [  0   0   0   0   0   0   0   0   0   0   0 133 254 254  52   0   0   0   0   0   0   0   0   0   0   0   0   0]\n",
      " [  0   0   0   0   0   0   0   0   0   0  61 242 254 254  52   0   0   0   0   0   0   0   0   0   0   0   0   0]\n",
      " [  0   0   0   0   0   0   0   0   0   0 121 254 254 219  40   0   0   0   0   0   0   0   0   0   0   0   0   0]\n",
      " [  0   0   0   0   0   0   0   0   0   0 121 254 207  18   0   0   0   0   0   0   0   0   0   0   0   0   0   0]\n",
      " [  0   0   0   0   0   0   0   0   0   0   0   0   0   0   0   0   0   0   0   0   0   0   0   0   0   0   0   0]]\n",
      "7\n"
     ]
    }
   ],
   "source": [
    "np.set_printoptions( linewidth = 115 ) # you can see the numbers as it is\n",
    "print(x_train[0])\n",
    "print(y_train[0])\n",
    "print(x_test[0])\n",
    "print(y_test[0])"
   ]
  },
  {
   "cell_type": "code",
   "execution_count": 39,
   "metadata": {},
   "outputs": [
    {
     "data": {
      "image/png": "[encoded data removed]",
      "text/plain": [
       "<Figure size 432x288 with 1 Axes>"
      ]
     },
     "metadata": {
      "needs_background": "light"
     },
     "output_type": "display_data"
    },
    {
     "data": {
      "image/png": "[encoded data removed]",
      "text/plain": [
       "<Figure size 432x288 with 1 Axes>"
      ]
     },
     "metadata": {
      "needs_background": "light"
     },
     "output_type": "display_data"
    },
    {
     "data": {
      "image/png": "[encoded data removed]",
      "text/plain": [
       "<Figure size 432x288 with 1 Axes>"
      ]
     },
     "metadata": {
      "needs_background": "light"
     },
     "output_type": "display_data"
    },
    {
     "data": {
      "image/png": "[encoded data removed]",
      "text/plain": [
       "<Figure size 432x288 with 1 Axes>"
      ]
     },
     "metadata": {
      "needs_background": "light"
     },
     "output_type": "display_data"
    },
    {
     "data": {
      "image/png": "[encoded data removed]",
      "text/plain": [
       "<Figure size 432x288 with 1 Axes>"
      ]
     },
     "metadata": {
      "needs_background": "light"
     },
     "output_type": "display_data"
    }
   ],
   "source": [
    "%matplotlib inline\n",
    "import matplotlib.pyplot as plt\n",
    "\n",
    "for i in range(5):\n",
    "    plt.figure( clear=True )\n",
    "    plt.imshow( x_train[i] )\n",
    "    plt.title( y_train[i] )"
   ]
  },
  {
   "cell_type": "code",
   "execution_count": 41,
   "metadata": {},
   "outputs": [
    {
     "data": {
      "image/png": "[encoded data removed]",
      "text/plain": [
       "<Figure size 432x288 with 1 Axes>"
      ]
     },
     "metadata": {
      "needs_background": "light"
     },
     "output_type": "display_data"
    },
    {
     "data": {
      "image/png": "[encoded data removed]",
      "text/plain": [
       "<Figure size 432x288 with 1 Axes>"
      ]
     },
     "metadata": {
      "needs_background": "light"
     },
     "output_type": "display_data"
    },
    {
     "data": {
      "image/png": "[encoded data removed]",
      "text/plain": [
       "<Figure size 432x288 with 1 Axes>"
      ]
     },
     "metadata": {
      "needs_background": "light"
     },
     "output_type": "display_data"
    },
    {
     "data": {
      "image/png": "[encoded data removed]",
      "text/plain": [
       "<Figure size 432x288 with 1 Axes>"
      ]
     },
     "metadata": {
      "needs_background": "light"
     },
     "output_type": "display_data"
    },
    {
     "data": {
      "image/png": "[encoded data removed]",
      "text/plain": [
       "<Figure size 432x288 with 1 Axes>"
      ]
     },
     "metadata": {
      "needs_background": "light"
     },
     "output_type": "display_data"
    }
   ],
   "source": [
    "# standardize\n",
    "x_train = x_train / 255.0\n",
    "x_test = x_test / 255.0\n",
    "\n",
    "\n",
    "for i in range(5):\n",
    "    plt.figure( clear=True )\n",
    "    plt.imshow( x_train[i] )\n",
    "    plt.title( y_train[i] )"
   ]
  },
  {
   "cell_type": "markdown",
   "metadata": {},
   "source": [
    "### Model"
   ]
  },
  {
   "cell_type": "code",
   "execution_count": 44,
   "metadata": {},
   "outputs": [],
   "source": [
    "from tensorflow.keras import Sequential\n",
    "from tensorflow.keras.layers import Dense , Flatten"
   ]
  },
  {
   "cell_type": "code",
   "execution_count": null,
   "metadata": {},
   "outputs": [],
   "source": [
    "Sequential?"
   ]
  },
  {
   "cell_type": "code",
   "execution_count": null,
   "metadata": {},
   "outputs": [],
   "source": [
    "Dense?"
   ]
  },
  {
   "cell_type": "code",
   "execution_count": null,
   "metadata": {},
   "outputs": [],
   "source": [
    "Flatten?"
   ]
  },
  {
   "cell_type": "code",
   "execution_count": null,
   "metadata": {},
   "outputs": [],
   "source": [
    "Sequential.add?"
   ]
  },
  {
   "cell_type": "code",
   "execution_count": null,
   "metadata": {},
   "outputs": [],
   "source": [
    "Sequential.summary?"
   ]
  },
  {
   "cell_type": "code",
   "execution_count": 51,
   "metadata": {},
   "outputs": [
    {
     "data": {
      "text/plain": [
       "\u001b[1;31mSignature:\u001b[0m\n",
       "\u001b[0mSequential\u001b[0m\u001b[1;33m.\u001b[0m\u001b[0mcompile\u001b[0m\u001b[1;33m(\u001b[0m\u001b[1;33m\n",
       "\u001b[0m    \u001b[0mself\u001b[0m\u001b[1;33m,\u001b[0m\u001b[1;33m\n",
       "\u001b[0m    \u001b[0moptimizer\u001b[0m\u001b[1;33m=\u001b[0m\u001b[1;34m'rmsprop'\u001b[0m\u001b[1;33m,\u001b[0m\u001b[1;33m\n",
       "\u001b[0m    \u001b[0mloss\u001b[0m\u001b[1;33m=\u001b[0m\u001b[1;32mNone\u001b[0m\u001b[1;33m,\u001b[0m\u001b[1;33m\n",
       "\u001b[0m    \u001b[0mmetrics\u001b[0m\u001b[1;33m=\u001b[0m\u001b[1;32mNone\u001b[0m\u001b[1;33m,\u001b[0m\u001b[1;33m\n",
       "\u001b[0m    \u001b[0mloss_weights\u001b[0m\u001b[1;33m=\u001b[0m\u001b[1;32mNone\u001b[0m\u001b[1;33m,\u001b[0m\u001b[1;33m\n",
       "\u001b[0m    \u001b[0msample_weight_mode\u001b[0m\u001b[1;33m=\u001b[0m\u001b[1;32mNone\u001b[0m\u001b[1;33m,\u001b[0m\u001b[1;33m\n",
       "\u001b[0m    \u001b[0mweighted_metrics\u001b[0m\u001b[1;33m=\u001b[0m\u001b[1;32mNone\u001b[0m\u001b[1;33m,\u001b[0m\u001b[1;33m\n",
       "\u001b[0m    \u001b[0mtarget_tensors\u001b[0m\u001b[1;33m=\u001b[0m\u001b[1;32mNone\u001b[0m\u001b[1;33m,\u001b[0m\u001b[1;33m\n",
       "\u001b[0m    \u001b[0mdistribute\u001b[0m\u001b[1;33m=\u001b[0m\u001b[1;32mNone\u001b[0m\u001b[1;33m,\u001b[0m\u001b[1;33m\n",
       "\u001b[0m    \u001b[1;33m**\u001b[0m\u001b[0mkwargs\u001b[0m\u001b[1;33m,\u001b[0m\u001b[1;33m\n",
       "\u001b[0m\u001b[1;33m)\u001b[0m\u001b[1;33m\u001b[0m\u001b[1;33m\u001b[0m\u001b[0m\n",
       "\u001b[1;31mDocstring:\u001b[0m\n",
       "Configures the model for training.\n",
       "\n",
       "Arguments:\n",
       "    optimizer: String (name of optimizer) or optimizer instance.\n",
       "        See `tf.keras.optimizers`.\n",
       "    loss: String (name of objective function), objective function or\n",
       "        `tf.keras.losses.Loss` instance. See `tf.keras.losses`. An objective\n",
       "        function is any callable with the signature\n",
       "        `scalar_loss = fn(y_true, y_pred)`. If the model has multiple\n",
       "        outputs, you can use a different loss on each output by passing a\n",
       "        dictionary or a list of losses. The loss value that will be\n",
       "        minimized by the model will then be the sum of all individual\n",
       "        losses.\n",
       "    metrics: List of metrics to be evaluated by the model during training\n",
       "        and testing. Typically you will use `metrics=['accuracy']`.\n",
       "        To specify different metrics for different outputs of a\n",
       "        multi-output model, you could also pass a dictionary, such as\n",
       "        `metrics={'output_a': 'accuracy', 'output_b': ['accuracy', 'mse']}`.\n",
       "        You can also pass a list (len = len(outputs)) of lists of metrics\n",
       "        such as `metrics=[['accuracy'], ['accuracy', 'mse']]` or\n",
       "        `metrics=['accuracy', ['accuracy', 'mse']]`.\n",
       "    loss_weights: Optional list or dictionary specifying scalar\n",
       "        coefficients (Python floats) to weight the loss contributions\n",
       "        of different model outputs.\n",
       "        The loss value that will be minimized by the model\n",
       "        will then be the *weighted sum* of all individual losses,\n",
       "        weighted by the `loss_weights` coefficients.\n",
       "        If a list, it is expected to have a 1:1 mapping\n",
       "        to the model's outputs. If a tensor, it is expected to map\n",
       "        output names (strings) to scalar coefficients.\n",
       "    sample_weight_mode: If you need to do timestep-wise\n",
       "        sample weighting (2D weights), set this to `\"temporal\"`.\n",
       "        `None` defaults to sample-wise weights (1D).\n",
       "        If the model has multiple outputs, you can use a different\n",
       "        `sample_weight_mode` on each output by passing a\n",
       "        dictionary or a list of modes.\n",
       "    weighted_metrics: List of metrics to be evaluated and weighted\n",
       "        by sample_weight or class_weight during training and testing.\n",
       "    target_tensors: By default, Keras will create placeholders for the\n",
       "        model's target, which will be fed with the target data during\n",
       "        training. If instead you would like to use your own\n",
       "        target tensors (in turn, Keras will not expect external\n",
       "        Numpy data for these targets at training time), you\n",
       "        can specify them via the `target_tensors` argument. It can be\n",
       "        a single tensor (for a single-output model), a list of tensors,\n",
       "        or a dict mapping output names to target tensors.\n",
       "    distribute: NOT SUPPORTED IN TF 2.0, please create and compile the\n",
       "        model under distribution strategy scope instead of passing it to\n",
       "        compile.\n",
       "    **kwargs: Any additional arguments.\n",
       "\n",
       "Raises:\n",
       "    ValueError: In case of invalid arguments for\n",
       "        `optimizer`, `loss`, `metrics` or `sample_weight_mode`.\n",
       "\u001b[1;31mFile:\u001b[0m      c:\\src\\python\\envs\\ml\\tensorflow\\lib\\site-packages\\tensorflow_core\\python\\keras\\engine\\training.py\n",
       "\u001b[1;31mType:\u001b[0m      function\n"
      ]
     },
     "metadata": {},
     "output_type": "display_data"
    }
   ],
   "source": [
    "Sequential.compile?"
   ]
  },
  {
   "cell_type": "code",
   "execution_count": null,
   "metadata": {},
   "outputs": [],
   "source": [
    "Sequential.fit?"
   ]
  },
  {
   "cell_type": "code",
   "execution_count": 60,
   "metadata": {},
   "outputs": [
    {
     "name": "stdout",
     "output_type": "stream",
     "text": [
      "Object `Sequential.history` not found.\n"
     ]
    }
   ],
   "source": []
  },
  {
   "cell_type": "code",
   "execution_count": 49,
   "metadata": {},
   "outputs": [
    {
     "name": "stdout",
     "output_type": "stream",
     "text": [
      "Model: \"sequential_2\"\n",
      "_________________________________________________________________\n",
      "Layer (type)                 Output Shape              Param #   \n",
      "=================================================================\n",
      "flatten_2 (Flatten)          (None, 784)               0         \n",
      "_________________________________________________________________\n",
      "dense_1 (Dense)              (None, 256)               200960    \n",
      "_________________________________________________________________\n",
      "dense_2 (Dense)              (None, 10)                2570      \n",
      "=================================================================\n",
      "Total params: 203,530\n",
      "Trainable params: 203,530\n",
      "Non-trainable params: 0\n",
      "_________________________________________________________________\n"
     ]
    }
   ],
   "source": [
    "model = Sequential()\n",
    "\n",
    "model.add( Flatten( input_shape=( 28 , 28 ) ) ) # makes a 2D image as 1D\n",
    "model.add( Dense( units = 256 , activation = \"sigmoid\" ) )\n",
    "model.add( Dense( units = 10 ,activation = \"softmax\" ) )\n",
    "model.summary()"
   ]
  },
  {
   "cell_type": "markdown",
   "metadata": {},
   "source": [
    "### ReLU\n",
    "   #### Faster ( sign bit lookup )\n",
    "### Sigmoid\n",
    "   #### Slower ( exponential Calculation )\n",
    "### Softmax\n",
    "   #### Converts multi clss distribution to probability\n",
    "   #### 1 , 2 , 2 => 0.2 , 0.4 , 0.4"
   ]
  },
  {
   "cell_type": "markdown",
   "metadata": {},
   "source": [
    "# ------------------------------------------------------------------"
   ]
  },
  {
   "cell_type": "markdown",
   "metadata": {},
   "source": [
    "### Regularization \n",
    "Weights adjust to make sure the outputs doesnt reach int limit"
   ]
  },
  {
   "cell_type": "code",
   "execution_count": 53,
   "metadata": {},
   "outputs": [
    {
     "data": {
      "text/plain": [
       "\u001b[1;31mType:\u001b[0m        module\n",
       "\u001b[1;31mString form:\u001b[0m <module 'tensorflow_core.python.keras.api._v2.keras.losses' from 'C:\\\\src\\\\python\\\\envs\\\\ml\\\\tensorflow\\\\lib\\\\site-packages\\\\tensorflow_core\\\\python\\\\keras\\\\api\\\\_v2\\\\keras\\\\losses\\\\__init__.py'>\n",
       "\u001b[1;31mFile:\u001b[0m        c:\\src\\python\\envs\\ml\\tensorflow\\lib\\site-packages\\tensorflow_core\\python\\keras\\api\\_v2\\keras\\losses\\__init__.py\n",
       "\u001b[1;31mDocstring:\u001b[0m   Built-in loss functions.\n"
      ]
     },
     "metadata": {},
     "output_type": "display_data"
    }
   ],
   "source": [
    "tf.losses? # look into all the losses"
   ]
  },
  {
   "cell_type": "code",
   "execution_count": 54,
   "metadata": {},
   "outputs": [
    {
     "data": {
      "text/plain": [
       "\u001b[1;31mType:\u001b[0m        module\n",
       "\u001b[1;31mString form:\u001b[0m <module 'tensorflow_core.python.keras.api._v2.keras.optimizers' from 'C:\\\\src\\\\python\\\\envs\\\\ml\\\\ <...> w\\\\lib\\\\site-packages\\\\tensorflow_core\\\\python\\\\keras\\\\api\\\\_v2\\\\keras\\\\optimizers\\\\__init__.py'>\n",
       "\u001b[1;31mFile:\u001b[0m        c:\\src\\python\\envs\\ml\\tensorflow\\lib\\site-packages\\tensorflow_core\\python\\keras\\api\\_v2\\keras\\optimizers\\__init__.py\n",
       "\u001b[1;31mDocstring:\u001b[0m   Built-in optimizer classes.\n"
      ]
     },
     "metadata": {},
     "output_type": "display_data"
    }
   ],
   "source": [
    "tf.optimizers? # look into all optimizers"
   ]
  },
  {
   "cell_type": "code",
   "execution_count": 55,
   "metadata": {},
   "outputs": [
    {
     "data": {
      "text/plain": [
       "\u001b[1;31mType:\u001b[0m        module\n",
       "\u001b[1;31mString form:\u001b[0m <module 'tensorflow_core.python.keras.api._v2.keras.metrics' from 'C:\\\\src\\\\python\\\\envs\\\\ml\\\\tensorflow\\\\lib\\\\site-packages\\\\tensorflow_core\\\\python\\\\keras\\\\api\\\\_v2\\\\keras\\\\metrics\\\\__init__.py'>\n",
       "\u001b[1;31mFile:\u001b[0m        c:\\src\\python\\envs\\ml\\tensorflow\\lib\\site-packages\\tensorflow_core\\python\\keras\\api\\_v2\\keras\\metrics\\__init__.py\n",
       "\u001b[1;31mDocstring:\u001b[0m   Built-in metrics.\n"
      ]
     },
     "metadata": {},
     "output_type": "display_data"
    }
   ],
   "source": [
    "tf.metrics?"
   ]
  },
  {
   "cell_type": "code",
   "execution_count": 73,
   "metadata": {},
   "outputs": [],
   "source": [
    "model.compile(  optimizer = tf.optimizers.Adam() ,\n",
    "                loss = tf.losses.SparseCategoricalCrossentropy(),\n",
    "                metrics = [ 'accuracy' ] #list of params  \n",
    "             )"
   ]
  },
  {
   "cell_type": "code",
   "execution_count": 74,
   "metadata": {},
   "outputs": [
    {
     "name": "stdout",
     "output_type": "stream",
     "text": [
      "Train on 60000 samples, validate on 10000 samples\n",
      "Epoch 1/20\n",
      "60000/60000 [==============================] - 5s 75us/sample - loss: 0.2710 - accuracy: 0.9223 - val_loss: 0.2750 - val_accuracy: 0.9220\n",
      "Epoch 2/20\n",
      "60000/60000 [==============================] - 4s 67us/sample - loss: 0.2704 - accuracy: 0.9227 - val_loss: 0.2698 - val_accuracy: 0.9235\n",
      "Epoch 3/20\n",
      "60000/60000 [==============================] - 4s 71us/sample - loss: 0.2696 - accuracy: 0.9226 - val_loss: 0.2671 - val_accuracy: 0.9235\n",
      "Epoch 4/20\n",
      "60000/60000 [==============================] - 4s 72us/sample - loss: 0.2684 - accuracy: 0.9238 - val_loss: 0.2707 - val_accuracy: 0.9218\n",
      "Epoch 5/20\n",
      "60000/60000 [==============================] - 4s 71us/sample - loss: 0.2671 - accuracy: 0.9233 - val_loss: 0.2750 - val_accuracy: 0.9208\n",
      "Epoch 6/20\n",
      "60000/60000 [==============================] - 4s 70us/sample - loss: 0.2675 - accuracy: 0.9234 - val_loss: 0.2664 - val_accuracy: 0.9245\n",
      "Epoch 7/20\n",
      "60000/60000 [==============================] - 4s 72us/sample - loss: 0.2668 - accuracy: 0.9238 - val_loss: 0.2719 - val_accuracy: 0.9219ss: 0.2681 - \n",
      "Epoch 8/20\n",
      "60000/60000 [==============================] - 4s 71us/sample - loss: 0.2660 - accuracy: 0.9250 - val_loss: 0.2655 - val_accuracy: 0.9249\n",
      "Epoch 9/20\n",
      "60000/60000 [==============================] - 4s 70us/sample - loss: 0.2654 - accuracy: 0.9249 - val_loss: 0.2726 - val_accuracy: 0.9205\n",
      "Epoch 10/20\n",
      "60000/60000 [==============================] - 4s 74us/sample - loss: 0.2654 - accuracy: 0.9246 - val_loss: 0.2725 - val_accuracy: 0.9201\n",
      "Epoch 11/20\n",
      "60000/60000 [==============================] - 4s 71us/sample - loss: 0.2643 - accuracy: 0.9245 - val_loss: 0.2681 - val_accuracy: 0.9227\n",
      "Epoch 12/20\n",
      "60000/60000 [==============================] - 4s 71us/sample - loss: 0.2630 - accuracy: 0.9251 - val_loss: 0.2687 - val_accuracy: 0.9242\n",
      "Epoch 13/20\n",
      "60000/60000 [==============================] - 4s 71us/sample - loss: 0.2627 - accuracy: 0.9257 - val_loss: 0.2657 - val_accuracy: 0.9242\n",
      "Epoch 14/20\n",
      "60000/60000 [==============================] - 4s 73us/sample - loss: 0.2622 - accuracy: 0.9251 - val_loss: 0.2622 - val_accuracy: 0.9249\n",
      "Epoch 15/20\n",
      "60000/60000 [==============================] - 4s 70us/sample - loss: 0.2620 - accuracy: 0.9253 - val_loss: 0.2636 - val_accuracy: 0.9242\n",
      "Epoch 16/20\n",
      "60000/60000 [==============================] - 4s 69us/sample - loss: 0.2616 - accuracy: 0.9257 - val_loss: 0.2622 - val_accuracy: 0.9256\n",
      "Epoch 17/20\n",
      "60000/60000 [==============================] - 4s 72us/sample - loss: 0.2601 - accuracy: 0.9261 - val_loss: 0.2651 - val_accuracy: 0.9252\n",
      "Epoch 18/20\n",
      "60000/60000 [==============================] - 4s 69us/sample - loss: 0.2602 - accuracy: 0.9264 - val_loss: 0.2636 - val_accuracy: 0.9245\n",
      "Epoch 19/20\n",
      "60000/60000 [==============================] - 4s 69us/sample - loss: 0.2596 - accuracy: 0.9274 - val_loss: 0.2639 - val_accuracy: 0.9264\n",
      "Epoch 20/20\n",
      "60000/60000 [==============================] - 4s 72us/sample - loss: 0.2582 - accuracy: 0.9270 - val_loss: 0.2632 - val_accuracy: 0.9247\n",
      "Wall time: 1min 25s\n"
     ]
    },
    {
     "data": {
      "text/plain": [
       "<tensorflow.python.keras.callbacks.History at 0x1f08d850b08>"
      ]
     },
     "execution_count": 74,
     "metadata": {},
     "output_type": "execute_result"
    }
   ],
   "source": [
    "%%time\n",
    "model.fit(\n",
    "    x_train , y_train ,\n",
    "    epochs = 20,\n",
    "    validation_data = ( x_test , y_test )\n",
    ")"
   ]
  },
  {
   "cell_type": "code",
   "execution_count": 80,
   "metadata": {},
   "outputs": [
    {
     "data": {
      "text/plain": [
       "\u001b[1;31mType:\u001b[0m        History\n",
       "\u001b[1;31mString form:\u001b[0m <tensorflow.python.keras.callbacks.History object at 0x000001F08D850B08>\n",
       "\u001b[1;31mFile:\u001b[0m        c:\\src\\python\\envs\\ml\\tensorflow\\lib\\site-packages\\tensorflow_core\\python\\keras\\callbacks.py\n",
       "\u001b[1;31mDocstring:\u001b[0m  \n",
       "Callback that records events into a `History` object.\n",
       "\n",
       "This callback is automatically applied to\n",
       "every Keras model. The `History` object\n",
       "gets returned by the `fit` method of models.\n"
      ]
     },
     "metadata": {},
     "output_type": "display_data"
    }
   ],
   "source": [
    "model.history?\n",
    "# this object gets added once the execution completes"
   ]
  },
  {
   "cell_type": "code",
   "execution_count": 79,
   "metadata": {},
   "outputs": [
    {
     "data": {
      "text/plain": [
       "\u001b[1;31mType:\u001b[0m        dict\n",
       "\u001b[1;31mString form:\u001b[0m {'loss': [0.27095299552877744, 0.270437811550498, 0.2695891288985809, 0.26836027313868205, 0.2671 <...>  0.9205, 0.9201, 0.9227, 0.9242, 0.9242, 0.9249, 0.9242, 0.9256, 0.9252, 0.9245, 0.9264, 0.9247]}\n",
       "\u001b[1;31mLength:\u001b[0m      4\n",
       "\u001b[1;31mDocstring:\u001b[0m  \n",
       "dict() -> new empty dictionary\n",
       "dict(mapping) -> new dictionary initialized from a mapping object's\n",
       "    (key, value) pairs\n",
       "dict(iterable) -> new dictionary initialized as if via:\n",
       "    d = {}\n",
       "    for k, v in iterable:\n",
       "        d[k] = v\n",
       "dict(**kwargs) -> new dictionary initialized with the name=value pairs\n",
       "    in the keyword argument list.  For example:  dict(one=1, two=2)\n"
      ]
     },
     "metadata": {},
     "output_type": "display_data"
    }
   ],
   "source": [
    "model.history.history?"
   ]
  },
  {
   "cell_type": "code",
   "execution_count": 81,
   "metadata": {},
   "outputs": [
    {
     "data": {
      "text/plain": [
       "[<matplotlib.lines.Line2D at 0x1f0865061c8>]"
      ]
     },
     "execution_count": 81,
     "metadata": {},
     "output_type": "execute_result"
    },
    {
     "data": {
      "image/png": "[encoded data removed]",
      "text/plain": [
       "<Figure size 432x288 with 1 Axes>"
      ]
     },
     "metadata": {
      "needs_background": "light"
     },
     "output_type": "display_data"
    }
   ],
   "source": [
    "h = model.history.history\n",
    "\n",
    "plt.plot(h['accuracy'])\n",
    "plt.plot(h['val_accuracy'])"
   ]
  },
  {
   "cell_type": "code",
   "execution_count": 82,
   "metadata": {},
   "outputs": [
    {
     "data": {
      "text/plain": [
       "[<matplotlib.lines.Line2D at 0x1f08d1aba88>]"
      ]
     },
     "execution_count": 82,
     "metadata": {},
     "output_type": "execute_result"
    },
    {
     "data": {
      "image/png": "[encoded data removed]",
      "text/plain": [
       "<Figure size 432x288 with 1 Axes>"
      ]
     },
     "metadata": {
      "needs_background": "light"
     },
     "output_type": "display_data"
    }
   ],
   "source": [
    "plt.plot(h['loss'])"
   ]
  },
  {
   "cell_type": "code",
   "execution_count": null,
   "metadata": {},
   "outputs": [],
   "source": []
  },
  {
   "cell_type": "markdown",
   "metadata": {},
   "source": [
    "# try out more layers and diff functions and make it work"
   ]
  },
  {
   "cell_type": "code",
   "execution_count": null,
   "metadata": {},
   "outputs": [],
   "source": []
  },
  {
   "cell_type": "code",
   "execution_count": null,
   "metadata": {},
   "outputs": [],
   "source": []
  }
 ],
 "metadata": {
  "kernelspec": {
   "display_name": "tensorflow",
   "language": "python",
   "name": "tensorflow"
  },
  "language_info": {
   "codemirror_mode": {
    "name": "ipython",
    "version": 3
   },
   "file_extension": ".py",
   "mimetype": "text/x-python",
   "name": "python",
   "nbconvert_exporter": "python",
   "pygments_lexer": "ipython3",
   "version": "3.7.6"
  }
 },
 "nbformat": 4,
 "nbformat_minor": 4
}
