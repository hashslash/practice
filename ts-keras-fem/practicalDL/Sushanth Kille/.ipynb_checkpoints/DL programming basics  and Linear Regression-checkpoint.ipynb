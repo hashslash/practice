{
 "cells": [
  {
   "cell_type": "markdown",
   "metadata": {},
   "source": [
    "## Tf and tensor"
   ]
  },
  {
   "cell_type": "code",
   "execution_count": 2,
   "metadata": {},
   "outputs": [],
   "source": [
    "import tensorflow as tf"
   ]
  },
  {
   "cell_type": "code",
   "execution_count": 3,
   "metadata": {},
   "outputs": [
    {
     "data": {
      "text/plain": [
       "\u001b[1;31mSignature:\u001b[0m\n",
       "\u001b[0mtf\u001b[0m\u001b[1;33m.\u001b[0m\u001b[0mrandom\u001b[0m\u001b[1;33m.\u001b[0m\u001b[0muniform\u001b[0m\u001b[1;33m(\u001b[0m\u001b[1;33m\n",
       "\u001b[0m    \u001b[0mshape\u001b[0m\u001b[1;33m,\u001b[0m\u001b[1;33m\n",
       "\u001b[0m    \u001b[0mminval\u001b[0m\u001b[1;33m=\u001b[0m\u001b[1;36m0\u001b[0m\u001b[1;33m,\u001b[0m\u001b[1;33m\n",
       "\u001b[0m    \u001b[0mmaxval\u001b[0m\u001b[1;33m=\u001b[0m\u001b[1;32mNone\u001b[0m\u001b[1;33m,\u001b[0m\u001b[1;33m\n",
       "\u001b[0m    \u001b[0mdtype\u001b[0m\u001b[1;33m=\u001b[0m\u001b[0mtf\u001b[0m\u001b[1;33m.\u001b[0m\u001b[0mfloat32\u001b[0m\u001b[1;33m,\u001b[0m\u001b[1;33m\n",
       "\u001b[0m    \u001b[0mseed\u001b[0m\u001b[1;33m=\u001b[0m\u001b[1;32mNone\u001b[0m\u001b[1;33m,\u001b[0m\u001b[1;33m\n",
       "\u001b[0m    \u001b[0mname\u001b[0m\u001b[1;33m=\u001b[0m\u001b[1;32mNone\u001b[0m\u001b[1;33m,\u001b[0m\u001b[1;33m\n",
       "\u001b[0m\u001b[1;33m)\u001b[0m\u001b[1;33m\u001b[0m\u001b[1;33m\u001b[0m\u001b[0m\n",
       "\u001b[1;31mDocstring:\u001b[0m\n",
       "Outputs random values from a uniform distribution.\n",
       "\n",
       "The generated values follow a uniform distribution in the range\n",
       "`[minval, maxval)`. The lower bound `minval` is included in the range, while\n",
       "the upper bound `maxval` is excluded.\n",
       "\n",
       "For floats, the default range is `[0, 1)`.  For ints, at least `maxval` must\n",
       "be specified explicitly.\n",
       "\n",
       "In the integer case, the random integers are slightly biased unless\n",
       "`maxval - minval` is an exact power of two.  The bias is small for values of\n",
       "`maxval - minval` significantly smaller than the range of the output (either\n",
       "`2**32` or `2**64`).\n",
       "\n",
       "Examples:\n",
       "\n",
       ">>> tf.random.uniform(shape=[2])\n",
       "<tf.Tensor: shape=(2,), dtype=float32, numpy=array([..., ...], dtype=float32)>\n",
       ">>> tf.random.uniform(shape=[], minval=-1., maxval=0.)\n",
       "<tf.Tensor: shape=(), dtype=float32, numpy=-...>\n",
       ">>> tf.random.uniform(shape=[], minval=5, maxval=10, dtype=tf.int64)\n",
       "<tf.Tensor: shape=(), dtype=int64, numpy=...>\n",
       "\n",
       "The `seed` argument produces a deterministic sequence of tensors across\n",
       "multiple calls. To repeat that sequence, use `tf.random.set_seed`:\n",
       "\n",
       ">>> tf.random.set_seed(5)\n",
       ">>> tf.random.uniform(shape=[], maxval=3, dtype=tf.int32, seed=10)\n",
       "<tf.Tensor: shape=(), dtype=int32, numpy=2>\n",
       ">>> tf.random.uniform(shape=[], maxval=3, dtype=tf.int32, seed=10)\n",
       "<tf.Tensor: shape=(), dtype=int32, numpy=0>\n",
       ">>> tf.random.set_seed(5)\n",
       ">>> tf.random.uniform(shape=[], maxval=3, dtype=tf.int32, seed=10)\n",
       "<tf.Tensor: shape=(), dtype=int32, numpy=2>\n",
       ">>> tf.random.uniform(shape=[], maxval=3, dtype=tf.int32, seed=10)\n",
       "<tf.Tensor: shape=(), dtype=int32, numpy=0>\n",
       "\n",
       "Without `tf.random.set_seed` but with a `seed` argument is specified, small\n",
       "changes to function graphs or previously executed operations will change the\n",
       "returned value. See `tf.random.set_seed` for details.\n",
       "\n",
       "Args:\n",
       "  shape: A 1-D integer Tensor or Python array. The shape of the output tensor.\n",
       "  minval: A Tensor or Python value of type `dtype`, broadcastable with\n",
       "    `maxval`. The lower bound on the range of random values to generate\n",
       "    (inclusive).  Defaults to 0.\n",
       "  maxval: A Tensor or Python value of type `dtype`, broadcastable with\n",
       "    `minval`. The upper bound on the range of random values to generate\n",
       "    (exclusive). Defaults to 1 if `dtype` is floating point.\n",
       "  dtype: The type of the output: `float16`, `float32`, `float64`, `int32`,\n",
       "    or `int64`.\n",
       "  seed: A Python integer. Used in combination with `tf.random.set_seed` to\n",
       "    create a reproducible sequence of tensors across multiple calls.\n",
       "  name: A name for the operation (optional).\n",
       "\n",
       "Returns:\n",
       "  A tensor of the specified shape filled with random uniform values.\n",
       "\n",
       "Raises:\n",
       "  ValueError: If `dtype` is integral and `maxval` is not specified.\n",
       "\u001b[1;31mFile:\u001b[0m      c:\\src\\python\\envs\\ml\\tensorflow\\lib\\site-packages\\tensorflow_core\\python\\ops\\random_ops.py\n",
       "\u001b[1;31mType:\u001b[0m      function\n"
      ]
     },
     "metadata": {},
     "output_type": "display_data"
    }
   ],
   "source": [
    "tf.random.uniform?"
   ]
  },
  {
   "cell_type": "code",
   "execution_count": 4,
   "metadata": {},
   "outputs": [],
   "source": [
    "tensor = tf.random.uniform([10000],0,10,tf.int64,name=\"tf\")"
   ]
  },
  {
   "cell_type": "code",
   "execution_count": 5,
   "metadata": {},
   "outputs": [
    {
     "data": {
      "text/plain": [
       "<tf.Tensor: shape=(10000,), dtype=int64, numpy=array([5, 6, 6, ..., 5, 0, 9], dtype=int64)>"
      ]
     },
     "execution_count": 5,
     "metadata": {},
     "output_type": "execute_result"
    }
   ],
   "source": [
    "tensor"
   ]
  },
  {
   "cell_type": "code",
   "execution_count": 6,
   "metadata": {},
   "outputs": [
    {
     "data": {
      "text/plain": [
       "tensorflow.python.framework.ops.EagerTensor"
      ]
     },
     "execution_count": 6,
     "metadata": {},
     "output_type": "execute_result"
    }
   ],
   "source": [
    "type(tensor)"
   ]
  },
  {
   "cell_type": "code",
   "execution_count": 7,
   "metadata": {},
   "outputs": [
    {
     "data": {
      "text/plain": [
       "method"
      ]
     },
     "execution_count": 7,
     "metadata": {},
     "output_type": "execute_result"
    }
   ],
   "source": [
    "type(tensor.numpy)"
   ]
  },
  {
   "cell_type": "code",
   "execution_count": 8,
   "metadata": {},
   "outputs": [
    {
     "name": "stdout",
     "output_type": "stream",
     "text": [
      "<class 'numpy.ndarray'>\n"
     ]
    }
   ],
   "source": [
    "tensor_np = tensor.numpy()\n",
    "print(type(tensor_np))"
   ]
  },
  {
   "cell_type": "code",
   "execution_count": 9,
   "metadata": {},
   "outputs": [
    {
     "data": {
      "text/plain": [
       "(10000,)"
      ]
     },
     "execution_count": 9,
     "metadata": {},
     "output_type": "execute_result"
    }
   ],
   "source": [
    "tensor_np.shape"
   ]
  },
  {
   "cell_type": "markdown",
   "metadata": {},
   "source": [
    "## Matplotlib"
   ]
  },
  {
   "cell_type": "code",
   "execution_count": 10,
   "metadata": {},
   "outputs": [
    {
     "data": {
      "text/plain": [
       "(array([1006.,  985., 1009.,  957., 1039., 1013., 1019., 1009.,  984.,\n",
       "         979.]),\n",
       " array([0. , 0.9, 1.8, 2.7, 3.6, 4.5, 5.4, 6.3, 7.2, 8.1, 9. ]),\n",
       " <a list of 10 Patch objects>)"
      ]
     },
     "execution_count": 10,
     "metadata": {},
     "output_type": "execute_result"
    },
    {
     "data": {
      "image/png": "[encoded data removed]",
      "text/plain": [
       "<Figure size 432x288 with 1 Axes>"
      ]
     },
     "metadata": {
      "needs_background": "light"
     },
     "output_type": "display_data"
    }
   ],
   "source": [
    "%matplotlib inline\n",
    "import matplotlib.pyplot as plt\n",
    "\n",
    "plt.hist(tensor_np)\n",
    "# providing a numpy array will make the plt count the values \n",
    "# and provide the SET of values as x and COUNT of SET as y"
   ]
  },
  {
   "cell_type": "markdown",
   "metadata": {},
   "source": [
    "## Basic Data Creation"
   ]
  },
  {
   "cell_type": "code",
   "execution_count": 11,
   "metadata": {},
   "outputs": [],
   "source": [
    "def create_data(weight=0.1,bias=0.1,count=1000):\n",
    "    x=tf.random.uniform(shape=[count],)\n",
    "    return x;\n",
    "x=create_data(count=100)"
   ]
  },
  {
   "cell_type": "code",
   "execution_count": 12,
   "metadata": {},
   "outputs": [
    {
     "data": {
      "text/plain": [
       "(array([ 9., 11.,  4.,  9.,  6., 12., 10., 13., 15., 11.]),\n",
       " array([0.03070343, 0.12758973, 0.22447605, 0.32136238, 0.41824868,\n",
       "        0.515135  , 0.6120213 , 0.7089076 , 0.80579394, 0.9026802 ,\n",
       "        0.99956656], dtype=float32),\n",
       " <a list of 10 Patch objects>)"
      ]
     },
     "execution_count": 12,
     "metadata": {},
     "output_type": "execute_result"
    },
    {
     "data": {
      "image/png": "[encoded data removed]",
      "text/plain": [
       "<Figure size 432x288 with 1 Axes>"
      ]
     },
     "metadata": {
      "needs_background": "light"
     },
     "output_type": "display_data"
    }
   ],
   "source": [
    "plt.hist(x)"
   ]
  },
  {
   "cell_type": "markdown",
   "metadata": {},
   "source": [
    "## Linear Data Creation"
   ]
  },
  {
   "cell_type": "code",
   "execution_count": 13,
   "metadata": {},
   "outputs": [],
   "source": [
    "def create_data(weight=0.1,bias=0.1,count=1000):\n",
    "    x=tf.random.uniform(shape=[count],)\n",
    "    noise=tf.random.normal([count],mean=0.0,stddev=0.01)\n",
    "    y= x * weight + bias + noise\n",
    "    return x,y;\n",
    "\n",
    "w=0.1\n",
    "b=0.1\n",
    "x,y=create_data(w,b,100)"
   ]
  },
  {
   "cell_type": "code",
   "execution_count": 14,
   "metadata": {},
   "outputs": [
    {
     "data": {
      "text/plain": [
       "[<matplotlib.lines.Line2D at 0x27b2c42e308>]"
      ]
     },
     "execution_count": 14,
     "metadata": {},
     "output_type": "execute_result"
    },
    {
     "data": {
      "image/png": "[encoded data removed]",
      "text/plain": [
       "<Figure size 432x288 with 1 Axes>"
      ]
     },
     "metadata": {
      "needs_background": "light"
     },
     "output_type": "display_data"
    }
   ],
   "source": [
    "# plt.plot(x,y,'bo') # blue and cirlces\n",
    "plt.plot(x,y,'b.') # blue and points\n",
    "\n",
    "# x in X_AXIS and y in Y_AXIS\n",
    "\n",
    "plt.plot([0,1],[b,w+b],'g-')"
   ]
  },
  {
   "cell_type": "markdown",
   "metadata": {},
   "source": [
    "## Manual Prediction\n",
    "#### Aim for least loss(MSE)\n"
   ]
  },
  {
   "cell_type": "code",
   "execution_count": 15,
   "metadata": {},
   "outputs": [],
   "source": [
    "def mean_squared_error(y,y_pred):\n",
    "    return tf.reduce_mean(tf.square(y-y_pred))\n",
    "\n",
    "def predict(x,w=0.01,b=0.01):\n",
    "    return w * x + b"
   ]
  },
  {
   "cell_type": "code",
   "execution_count": 16,
   "metadata": {},
   "outputs": [
    {
     "name": "stdout",
     "output_type": "stream",
     "text": [
      "tf.Tensor(0.023533512, shape=(), dtype=float32)\n",
      "tf.Tensor(0.0060288836, shape=(), dtype=float32)\n",
      "tf.Tensor(0.00010162365, shape=(), dtype=float32)\n",
      "tf.Tensor(0.0057517313, shape=(), dtype=float32)\n"
     ]
    }
   ],
   "source": [
    "print(mean_squared_error(y,predict(x,   0   ,   0  )))\n",
    "print(mean_squared_error(y,predict(x,   0.05   ,   0.05  )))\n",
    "print(mean_squared_error(y,predict(x,   0.1   ,   0.1  )))\n",
    "print(mean_squared_error(y,predict(x,   0.15   ,   0.15  )))"
   ]
  },
  {
   "cell_type": "code",
   "execution_count": 17,
   "metadata": {},
   "outputs": [
    {
     "data": {
      "text/plain": [
       "[<matplotlib.lines.Line2D at 0x27b2c4a4708>]"
      ]
     },
     "execution_count": 17,
     "metadata": {},
     "output_type": "execute_result"
    },
    {
     "data": {
      "image/png": "[encoded data removed]",
      "text/plain": [
       "<Figure size 432x288 with 1 Axes>"
      ]
     },
     "metadata": {
      "needs_background": "light"
     },
     "output_type": "display_data"
    }
   ],
   "source": [
    "plt.plot(x,y,'b.')\n",
    "\n",
    "plt.plot([0,1],[b,w+b],'g-')\n",
    "\n",
    "plt.plot([0,1],[0.15,0.3],'r')"
   ]
  },
  {
   "cell_type": "markdown",
   "metadata": {},
   "source": [
    "## Linear Regression Implementation\n",
    "### Vary the weight and bias to \n",
    "### Minimizing Loss Function"
   ]
  },
  {
   "cell_type": "code",
   "execution_count": 18,
   "metadata": {},
   "outputs": [
    {
     "data": {
      "text/plain": [
       "\u001b[1;31mInit signature:\u001b[0m \u001b[0mtf\u001b[0m\u001b[1;33m.\u001b[0m\u001b[0mVariable\u001b[0m\u001b[1;33m(\u001b[0m\u001b[1;33m*\u001b[0m\u001b[0margs\u001b[0m\u001b[1;33m,\u001b[0m \u001b[1;33m**\u001b[0m\u001b[0mkwargs\u001b[0m\u001b[1;33m)\u001b[0m\u001b[1;33m\u001b[0m\u001b[1;33m\u001b[0m\u001b[0m\n",
       "\u001b[1;31mDocstring:\u001b[0m     \n",
       "See the [variable guide](https://tensorflow.org/guide/variable).\n",
       "\n",
       "A variable maintains shared, persistent state manipulated by a program.\n",
       "\n",
       "The `Variable()` constructor requires an initial value for the variable, which\n",
       "can be a `Tensor` of any type and shape. This initial value defines the type\n",
       "and shape of the variable. After construction, the type and shape of the\n",
       "variable are fixed. The value can be changed using one of the assign methods.\n",
       "\n",
       ">>> v = tf.Variable(1.)\n",
       ">>> v.assign(2.)\n",
       "<tf.Variable ... shape=() dtype=float32, numpy=2.0>\n",
       ">>> v.assign_add(0.5)\n",
       "<tf.Variable ... shape=() dtype=float32, numpy=2.5>\n",
       "\n",
       "The `shape` argument to `Variable`'s constructor allows you to construct a\n",
       "variable with a less defined shape than its `initial_value`:\n",
       "\n",
       ">>> v = tf.Variable(1., shape=tf.TensorShape(None))\n",
       ">>> v.assign([[1.]])\n",
       "<tf.Variable ... shape=<unknown> dtype=float32, numpy=array([[1.]], ...)>\n",
       "\n",
       "Just like any `Tensor`, variables created with `Variable()` can be used as\n",
       "inputs to operations. Additionally, all the operators overloaded for the\n",
       "`Tensor` class are carried over to variables.\n",
       "\n",
       ">>> w = tf.Variable([[1.], [2.]])\n",
       ">>> x = tf.constant([[3., 4.]])\n",
       ">>> tf.matmul(w, x)\n",
       "<tf.Tensor:... shape=(2, 2), ... numpy=\n",
       "  array([[3., 4.],\n",
       "         [6., 8.]], dtype=float32)>\n",
       ">>> tf.sigmoid(w + x)\n",
       "<tf.Tensor:... shape=(2, 2), ...>\n",
       "\n",
       "When building a machine learning model it is often convenient to distinguish\n",
       "between variables holding trainable model parameters and other variables such\n",
       "as a `step` variable used to count training steps. To make this easier, the\n",
       "variable constructor supports a `trainable=<bool>`\n",
       "parameter. `tf.GradientTape` watches trainable variables by default:\n",
       "\n",
       ">>> with tf.GradientTape(persistent=True) as tape:\n",
       "...   trainable = tf.Variable(1.)\n",
       "...   non_trainable = tf.Variable(2., trainable=False)\n",
       "...   x1 = trainable * 2.\n",
       "...   x2 = non_trainable * 3.\n",
       ">>> tape.gradient(x1, trainable)\n",
       "<tf.Tensor:... shape=(), dtype=float32, numpy=2.0>\n",
       ">>> assert tape.gradient(x2, non_trainable) is None  # Unwatched\n",
       "\n",
       "Variables are automatically tracked when assigned to attributes of types\n",
       "inheriting from `tf.Module`.\n",
       "\n",
       ">>> m = tf.Module()\n",
       ">>> m.v = tf.Variable([1.])\n",
       ">>> m.trainable_variables\n",
       "(<tf.Variable ... shape=(1,) ... numpy=array([1.], dtype=float32)>,)\n",
       "\n",
       "This tracking then allows saving variable values to\n",
       "[training checkpoints](https://www.tensorflow.org/guide/checkpoint), or to\n",
       "[SavedModels](https://www.tensorflow.org/guide/saved_model) which include\n",
       "serialized TensorFlow graphs.\n",
       "\n",
       "Variables are often captured and manipulated by `tf.function`s. This works the\n",
       "same way the un-decorated function would have:\n",
       "\n",
       ">>> v = tf.Variable(0.)\n",
       ">>> read_and_decrement = tf.function(lambda: v.assign_sub(0.1))\n",
       ">>> read_and_decrement()\n",
       "<tf.Tensor: shape=(), dtype=float32, numpy=-0.1>\n",
       ">>> read_and_decrement()\n",
       "<tf.Tensor: shape=(), dtype=float32, numpy=-0.2>\n",
       "\n",
       "Variables created inside a `tf.function` must be owned outside the function\n",
       "and be created only once:\n",
       "\n",
       ">>> class M(tf.Module):\n",
       "...   @tf.function\n",
       "...   def __call__(self, x):\n",
       "...     if not hasattr(self, \"v\"):  # Or set self.v to None in __init__\n",
       "...       self.v = tf.Variable(x)\n",
       "...     return self.v * x\n",
       ">>> m = M()\n",
       ">>> m(2.)\n",
       "<tf.Tensor: shape=(), dtype=float32, numpy=4.0>\n",
       ">>> m(3.)\n",
       "<tf.Tensor: shape=(), dtype=float32, numpy=6.0>\n",
       ">>> m.v\n",
       "<tf.Variable ... shape=() dtype=float32, numpy=2.0>\n",
       "\n",
       "See the `tf.function` documentation for details.\n",
       "\u001b[1;31mInit docstring:\u001b[0m\n",
       "Creates a new variable with value `initial_value`. (deprecated arguments)\n",
       "\n",
       "Warning: SOME ARGUMENTS ARE DEPRECATED: `(caching_device)`. They will be removed in a future version.\n",
       "Instructions for updating:\n",
       "A variable's value can be manually cached by calling tf.Variable.read_value() under a tf.device scope. The caching_device argument does not work properly.\n",
       "\n",
       "Args:\n",
       "  initial_value: A `Tensor`, or Python object convertible to a `Tensor`,\n",
       "    which is the initial value for the Variable. The initial value must have\n",
       "    a shape specified unless `validate_shape` is set to False. Can also be a\n",
       "    callable with no argument that returns the initial value when called. In\n",
       "    that case, `dtype` must be specified. (Note that initializer functions\n",
       "    from init_ops.py must first be bound to a shape before being used here.)\n",
       "  trainable: If `True`, GradientTapes automatically watch uses of this\n",
       "    variable. Defaults to `True`, unless `synchronization` is set to\n",
       "    `ON_READ`, in which case it defaults to `False`.\n",
       "  validate_shape: If `False`, allows the variable to be initialized with a\n",
       "    value of unknown shape. If `True`, the default, the shape of\n",
       "    `initial_value` must be known.\n",
       "  caching_device: Optional device string describing where the Variable\n",
       "    should be cached for reading.  Defaults to the Variable's device. If not\n",
       "    `None`, caches on another device.  Typical use is to cache on the device\n",
       "    where the Ops using the Variable reside, to deduplicate copying through\n",
       "    `Switch` and other conditional statements.\n",
       "  name: Optional name for the variable. Defaults to `'Variable'` and gets\n",
       "    uniquified automatically.\n",
       "  variable_def: `VariableDef` protocol buffer. If not `None`, recreates the\n",
       "    Variable object with its contents, referencing the variable's nodes in\n",
       "    the graph, which must already exist. The graph is not changed.\n",
       "    `variable_def` and the other arguments are mutually exclusive.\n",
       "  dtype: If set, initial_value will be converted to the given type. If\n",
       "    `None`, either the datatype will be kept (if `initial_value` is a\n",
       "    Tensor), or `convert_to_tensor` will decide.\n",
       "  import_scope: Optional `string`. Name scope to add to the `Variable.` Only\n",
       "    used when initializing from protocol buffer.\n",
       "  constraint: An optional projection function to be applied to the variable\n",
       "    after being updated by an `Optimizer` (e.g. used to implement norm\n",
       "    constraints or value constraints for layer weights). The function must\n",
       "    take as input the unprojected Tensor representing the value of the\n",
       "    variable and return the Tensor for the projected value (which must have\n",
       "    the same shape). Constraints are not safe to use when doing asynchronous\n",
       "    distributed training.\n",
       "  synchronization: Indicates when a distributed a variable will be\n",
       "    aggregated. Accepted values are constants defined in the class\n",
       "    `tf.VariableSynchronization`. By default the synchronization is set to\n",
       "    `AUTO` and the current `DistributionStrategy` chooses when to\n",
       "    synchronize.\n",
       "  aggregation: Indicates how a distributed variable will be aggregated.\n",
       "    Accepted values are constants defined in the class\n",
       "    `tf.VariableAggregation`.\n",
       "  shape: (optional) The shape of this variable. If None, the shape of\n",
       "    `initial_value` will be used. When setting this argument to\n",
       "    `tf.TensorShape(None)` (representing an unspecified shape), the variable\n",
       "    can be assigned with values of different shapes.\n",
       "\n",
       "Raises:\n",
       "  ValueError: If both `variable_def` and initial_value are specified.\n",
       "  ValueError: If the initial value is not specified, or does not have a\n",
       "    shape and `validate_shape` is `True`.\n",
       "\u001b[1;31mFile:\u001b[0m           c:\\src\\python\\envs\\ml\\tensorflow\\lib\\site-packages\\tensorflow_core\\python\\ops\\variables.py\n",
       "\u001b[1;31mType:\u001b[0m           VariableMetaclass\n",
       "\u001b[1;31mSubclasses:\u001b[0m     VariableV1, DistributedVariable, AggregatingVariable, AutoCastVariable\n"
      ]
     },
     "metadata": {},
     "output_type": "display_data"
    }
   ],
   "source": [
    "tf.Variable?"
   ]
  },
  {
   "cell_type": "code",
   "execution_count": 19,
   "metadata": {},
   "outputs": [
    {
     "data": {
      "text/plain": [
       "\u001b[1;31mSignature:\u001b[0m\n",
       "\u001b[0mtf\u001b[0m\u001b[1;33m.\u001b[0m\u001b[0mVariable\u001b[0m\u001b[1;33m.\u001b[0m\u001b[0massign\u001b[0m\u001b[1;33m(\u001b[0m\u001b[1;33m\n",
       "\u001b[0m    \u001b[0mself\u001b[0m\u001b[1;33m,\u001b[0m\u001b[1;33m\n",
       "\u001b[0m    \u001b[0mvalue\u001b[0m\u001b[1;33m,\u001b[0m\u001b[1;33m\n",
       "\u001b[0m    \u001b[0muse_locking\u001b[0m\u001b[1;33m=\u001b[0m\u001b[1;32mFalse\u001b[0m\u001b[1;33m,\u001b[0m\u001b[1;33m\n",
       "\u001b[0m    \u001b[0mname\u001b[0m\u001b[1;33m=\u001b[0m\u001b[1;32mNone\u001b[0m\u001b[1;33m,\u001b[0m\u001b[1;33m\n",
       "\u001b[0m    \u001b[0mread_value\u001b[0m\u001b[1;33m=\u001b[0m\u001b[1;32mTrue\u001b[0m\u001b[1;33m,\u001b[0m\u001b[1;33m\n",
       "\u001b[0m\u001b[1;33m)\u001b[0m\u001b[1;33m\u001b[0m\u001b[1;33m\u001b[0m\u001b[0m\n",
       "\u001b[1;31mDocstring:\u001b[0m\n",
       "Assigns a new value to the variable.\n",
       "\n",
       "This is essentially a shortcut for `assign(self, value)`.\n",
       "\n",
       "Args:\n",
       "  value: A `Tensor`. The new value for this variable.\n",
       "  use_locking: If `True`, use locking during the assignment.\n",
       "  name: The name of the operation to be created\n",
       "  read_value: if True, will return something which evaluates to the new\n",
       "    value of the variable; if False will return the assign op.\n",
       "\n",
       "Returns:\n",
       "  A `Tensor` that will hold the new value of this variable after\n",
       "  the assignment has completed.\n",
       "\u001b[1;31mFile:\u001b[0m      c:\\src\\python\\envs\\ml\\tensorflow\\lib\\site-packages\\tensorflow_core\\python\\ops\\variables.py\n",
       "\u001b[1;31mType:\u001b[0m      function\n"
      ]
     },
     "metadata": {},
     "output_type": "display_data"
    }
   ],
   "source": [
    "tf.Variable.assign?"
   ]
  },
  {
   "cell_type": "code",
   "execution_count": 20,
   "metadata": {},
   "outputs": [
    {
     "data": {
      "text/plain": [
       "\u001b[1;31mSignature:\u001b[0m\n",
       "\u001b[0mtf\u001b[0m\u001b[1;33m.\u001b[0m\u001b[0mVariable\u001b[0m\u001b[1;33m.\u001b[0m\u001b[0massign_sub\u001b[0m\u001b[1;33m(\u001b[0m\u001b[1;33m\n",
       "\u001b[0m    \u001b[0mself\u001b[0m\u001b[1;33m,\u001b[0m\u001b[1;33m\n",
       "\u001b[0m    \u001b[0mdelta\u001b[0m\u001b[1;33m,\u001b[0m\u001b[1;33m\n",
       "\u001b[0m    \u001b[0muse_locking\u001b[0m\u001b[1;33m=\u001b[0m\u001b[1;32mFalse\u001b[0m\u001b[1;33m,\u001b[0m\u001b[1;33m\n",
       "\u001b[0m    \u001b[0mname\u001b[0m\u001b[1;33m=\u001b[0m\u001b[1;32mNone\u001b[0m\u001b[1;33m,\u001b[0m\u001b[1;33m\n",
       "\u001b[0m    \u001b[0mread_value\u001b[0m\u001b[1;33m=\u001b[0m\u001b[1;32mTrue\u001b[0m\u001b[1;33m,\u001b[0m\u001b[1;33m\n",
       "\u001b[0m\u001b[1;33m)\u001b[0m\u001b[1;33m\u001b[0m\u001b[1;33m\u001b[0m\u001b[0m\n",
       "\u001b[1;31mDocstring:\u001b[0m\n",
       "Subtracts a value from this variable.\n",
       "\n",
       "This is essentially a shortcut for `assign_sub(self, delta)`.\n",
       "\n",
       "Args:\n",
       "  delta: A `Tensor`. The value to subtract from this variable.\n",
       "  use_locking: If `True`, use locking during the operation.\n",
       "  name: The name of the operation to be created\n",
       "  read_value: if True, will return something which evaluates to the new\n",
       "    value of the variable; if False will return the assign op.\n",
       "\n",
       "Returns:\n",
       "  A `Tensor` that will hold the new value of this variable after\n",
       "  the subtraction has completed.\n",
       "\u001b[1;31mFile:\u001b[0m      c:\\src\\python\\envs\\ml\\tensorflow\\lib\\site-packages\\tensorflow_core\\python\\ops\\variables.py\n",
       "\u001b[1;31mType:\u001b[0m      function\n"
      ]
     },
     "metadata": {},
     "output_type": "display_data"
    }
   ],
   "source": [
    "tf.Variable.assign_sub?"
   ]
  },
  {
   "cell_type": "code",
   "execution_count": 21,
   "metadata": {},
   "outputs": [
    {
     "data": {
      "text/plain": [
       "\u001b[1;31mSignature:\u001b[0m\n",
       "\u001b[0mtf\u001b[0m\u001b[1;33m.\u001b[0m\u001b[0mVariable\u001b[0m\u001b[1;33m.\u001b[0m\u001b[0massign_sub\u001b[0m\u001b[1;33m(\u001b[0m\u001b[1;33m\n",
       "\u001b[0m    \u001b[0mself\u001b[0m\u001b[1;33m,\u001b[0m\u001b[1;33m\n",
       "\u001b[0m    \u001b[0mdelta\u001b[0m\u001b[1;33m,\u001b[0m\u001b[1;33m\n",
       "\u001b[0m    \u001b[0muse_locking\u001b[0m\u001b[1;33m=\u001b[0m\u001b[1;32mFalse\u001b[0m\u001b[1;33m,\u001b[0m\u001b[1;33m\n",
       "\u001b[0m    \u001b[0mname\u001b[0m\u001b[1;33m=\u001b[0m\u001b[1;32mNone\u001b[0m\u001b[1;33m,\u001b[0m\u001b[1;33m\n",
       "\u001b[0m    \u001b[0mread_value\u001b[0m\u001b[1;33m=\u001b[0m\u001b[1;32mTrue\u001b[0m\u001b[1;33m,\u001b[0m\u001b[1;33m\n",
       "\u001b[0m\u001b[1;33m)\u001b[0m\u001b[1;33m\u001b[0m\u001b[1;33m\u001b[0m\u001b[0m\n",
       "\u001b[1;31mDocstring:\u001b[0m\n",
       "Subtracts a value from this variable.\n",
       "\n",
       "This is essentially a shortcut for `assign_sub(self, delta)`.\n",
       "\n",
       "Args:\n",
       "  delta: A `Tensor`. The value to subtract from this variable.\n",
       "  use_locking: If `True`, use locking during the operation.\n",
       "  name: The name of the operation to be created\n",
       "  read_value: if True, will return something which evaluates to the new\n",
       "    value of the variable; if False will return the assign op.\n",
       "\n",
       "Returns:\n",
       "  A `Tensor` that will hold the new value of this variable after\n",
       "  the subtraction has completed.\n",
       "\u001b[1;31mFile:\u001b[0m      c:\\src\\python\\envs\\ml\\tensorflow\\lib\\site-packages\\tensorflow_core\\python\\ops\\variables.py\n",
       "\u001b[1;31mType:\u001b[0m      function\n"
      ]
     },
     "metadata": {},
     "output_type": "display_data"
    }
   ],
   "source": [
    "tf.Variable.assign_sub?"
   ]
  },
  {
   "cell_type": "code",
   "execution_count": 22,
   "metadata": {},
   "outputs": [
    {
     "data": {
      "text/plain": [
       "\u001b[1;31mInit signature:\u001b[0m \u001b[0mtf\u001b[0m\u001b[1;33m.\u001b[0m\u001b[0mGradientTape\u001b[0m\u001b[1;33m(\u001b[0m\u001b[0mpersistent\u001b[0m\u001b[1;33m=\u001b[0m\u001b[1;32mFalse\u001b[0m\u001b[1;33m,\u001b[0m \u001b[0mwatch_accessed_variables\u001b[0m\u001b[1;33m=\u001b[0m\u001b[1;32mTrue\u001b[0m\u001b[1;33m)\u001b[0m\u001b[1;33m\u001b[0m\u001b[1;33m\u001b[0m\u001b[0m\n",
       "\u001b[1;31mDocstring:\u001b[0m     \n",
       "Record operations for automatic differentiation.\n",
       "\n",
       "Operations are recorded if they are executed within this context manager and\n",
       "at least one of their inputs is being \"watched\".\n",
       "\n",
       "Trainable variables (created by `tf.Variable` or `tf.compat.v1.get_variable`,\n",
       "where `trainable=True` is default in both cases) are automatically watched.\n",
       "Tensors can be manually watched by invoking the `watch` method on this context\n",
       "manager.\n",
       "\n",
       "For example, consider the function `y = x * x`. The gradient at `x = 3.0` can\n",
       "be computed as:\n",
       "\n",
       "```python\n",
       "x = tf.constant(3.0)\n",
       "with tf.GradientTape() as g:\n",
       "  g.watch(x)\n",
       "  y = x * x\n",
       "dy_dx = g.gradient(y, x) # Will compute to 6.0\n",
       "```\n",
       "\n",
       "GradientTapes can be nested to compute higher-order derivatives. For example,\n",
       "\n",
       "```python\n",
       "x = tf.constant(3.0)\n",
       "with tf.GradientTape() as g:\n",
       "  g.watch(x)\n",
       "  with tf.GradientTape() as gg:\n",
       "    gg.watch(x)\n",
       "    y = x * x\n",
       "  dy_dx = gg.gradient(y, x)     # Will compute to 6.0\n",
       "d2y_dx2 = g.gradient(dy_dx, x)  # Will compute to 2.0\n",
       "```\n",
       "\n",
       "By default, the resources held by a GradientTape are released as soon as\n",
       "GradientTape.gradient() method is called. To compute multiple gradients over\n",
       "the same computation, create a persistent gradient tape. This allows multiple\n",
       "calls to the gradient() method as resources are released when the tape object\n",
       "is garbage collected. For example:\n",
       "\n",
       "```python\n",
       "x = tf.constant(3.0)\n",
       "with tf.GradientTape(persistent=True) as g:\n",
       "  g.watch(x)\n",
       "  y = x * x\n",
       "  z = y * y\n",
       "dz_dx = g.gradient(z, x)  # 108.0 (4*x^3 at x = 3)\n",
       "dy_dx = g.gradient(y, x)  # 6.0\n",
       "del g  # Drop the reference to the tape\n",
       "```\n",
       "\n",
       "By default GradientTape will automatically watch any trainable variables that\n",
       "are accessed inside the context. If you want fine grained control over which\n",
       "variables are watched you can disable automatic tracking by passing\n",
       "`watch_accessed_variables=False` to the tape constructor:\n",
       "\n",
       "```python\n",
       "with tf.GradientTape(watch_accessed_variables=False) as tape:\n",
       "  tape.watch(variable_a)\n",
       "  y = variable_a ** 2  # Gradients will be available for `variable_a`.\n",
       "  z = variable_b ** 3  # No gradients will be available since `variable_b` is\n",
       "                       # not being watched.\n",
       "```\n",
       "\n",
       "Note that when using models you should ensure that your variables exist when\n",
       "using `watch_accessed_variables=False`. Otherwise it's quite easy to make your\n",
       "first iteration not have any gradients:\n",
       "\n",
       "```python\n",
       "a = tf.keras.layers.Dense(32)\n",
       "b = tf.keras.layers.Dense(32)\n",
       "\n",
       "with tf.GradientTape(watch_accessed_variables=False) as tape:\n",
       "  tape.watch(a.variables)  # Since `a.build` has not been called at this point\n",
       "                           # `a.variables` will return an empty list and the\n",
       "                           # tape will not be watching anything.\n",
       "  result = b(a(inputs))\n",
       "  tape.gradient(result, a.variables)  # The result of this computation will be\n",
       "                                      # a list of `None`s since a's variables\n",
       "                                      # are not being watched.\n",
       "```\n",
       "\n",
       "Note that only tensors with real or complex dtypes are differentiable.\n",
       "\u001b[1;31mInit docstring:\u001b[0m\n",
       "Creates a new GradientTape.\n",
       "\n",
       "Args:\n",
       "  persistent: Boolean controlling whether a persistent gradient tape\n",
       "    is created. False by default, which means at most one call can\n",
       "    be made to the gradient() method on this object.\n",
       "  watch_accessed_variables: Boolean controlling whether the tape will\n",
       "    automatically `watch` any (trainable) variables accessed while the tape\n",
       "    is active. Defaults to True meaning gradients can be requested from any\n",
       "    result computed in the tape derived from reading a trainable `Variable`.\n",
       "    If False users must explicitly `watch` any `Variable`s they want to\n",
       "    request gradients from.\n",
       "\u001b[1;31mFile:\u001b[0m           c:\\src\\python\\envs\\ml\\tensorflow\\lib\\site-packages\\tensorflow_core\\python\\eager\\backprop.py\n",
       "\u001b[1;31mType:\u001b[0m           type\n",
       "\u001b[1;31mSubclasses:\u001b[0m     LossScaleGradientTape\n"
      ]
     },
     "metadata": {},
     "output_type": "display_data"
    }
   ],
   "source": [
    "tf.GradientTape?"
   ]
  },
  {
   "cell_type": "code",
   "execution_count": 23,
   "metadata": {},
   "outputs": [
    {
     "data": {
      "text/plain": [
       "\u001b[1;31mSignature:\u001b[0m\n",
       "\u001b[0mtf\u001b[0m\u001b[1;33m.\u001b[0m\u001b[0mGradientTape\u001b[0m\u001b[1;33m.\u001b[0m\u001b[0mgradient\u001b[0m\u001b[1;33m(\u001b[0m\u001b[1;33m\n",
       "\u001b[0m    \u001b[0mself\u001b[0m\u001b[1;33m,\u001b[0m\u001b[1;33m\n",
       "\u001b[0m    \u001b[0mtarget\u001b[0m\u001b[1;33m,\u001b[0m\u001b[1;33m\n",
       "\u001b[0m    \u001b[0msources\u001b[0m\u001b[1;33m,\u001b[0m\u001b[1;33m\n",
       "\u001b[0m    \u001b[0moutput_gradients\u001b[0m\u001b[1;33m=\u001b[0m\u001b[1;32mNone\u001b[0m\u001b[1;33m,\u001b[0m\u001b[1;33m\n",
       "\u001b[0m    \u001b[0munconnected_gradients\u001b[0m\u001b[1;33m=\u001b[0m\u001b[1;33m<\u001b[0m\u001b[0mUnconnectedGradients\u001b[0m\u001b[1;33m.\u001b[0m\u001b[0mNONE\u001b[0m\u001b[1;33m:\u001b[0m \u001b[1;34m'none'\u001b[0m\u001b[1;33m>\u001b[0m\u001b[1;33m,\u001b[0m\u001b[1;33m\n",
       "\u001b[0m\u001b[1;33m)\u001b[0m\u001b[1;33m\u001b[0m\u001b[1;33m\u001b[0m\u001b[0m\n",
       "\u001b[1;31mDocstring:\u001b[0m\n",
       "Computes the gradient using operations recorded in context of this tape.\n",
       "\n",
       "Args:\n",
       "  target: a list or nested structure of Tensors or Variables to be\n",
       "    differentiated.\n",
       "  sources: a list or nested structure of Tensors or Variables. `target`\n",
       "    will be differentiated against elements in `sources`.\n",
       "  output_gradients: a list of gradients, one for each element of\n",
       "    target. Defaults to None.\n",
       "  unconnected_gradients: a value which can either hold 'none' or 'zero' and\n",
       "    alters the value which will be returned if the target and sources are\n",
       "    unconnected. The possible values and effects are detailed in\n",
       "    'UnconnectedGradients' and it defaults to 'none'.\n",
       "\n",
       "Returns:\n",
       "  a list or nested structure of Tensors (or IndexedSlices, or None),\n",
       "  one for each element in `sources`. Returned structure is the same as\n",
       "  the structure of `sources`.\n",
       "\n",
       "Raises:\n",
       "  RuntimeError: if called inside the context of the tape, or if called more\n",
       "   than once on a non-persistent tape.\n",
       "  ValueError: if the target is a variable or if unconnected gradients is\n",
       "   called with an unknown value.\n",
       "\u001b[1;31mFile:\u001b[0m      c:\\src\\python\\envs\\ml\\tensorflow\\lib\\site-packages\\tensorflow_core\\python\\eager\\backprop.py\n",
       "\u001b[1;31mType:\u001b[0m      function\n"
      ]
     },
     "metadata": {},
     "output_type": "display_data"
    }
   ],
   "source": [
    "tf.GradientTape.gradient?"
   ]
  },
  {
   "cell_type": "markdown",
   "metadata": {},
   "source": [
    "#### trying out GradientTape"
   ]
  },
  {
   "cell_type": "code",
   "execution_count": 24,
   "metadata": {},
   "outputs": [
    {
     "name": "stdout",
     "output_type": "stream",
     "text": [
      "1.0 10.0 23.025852 1.0\n",
      "1.1 11.0 33.52449 1.3980799\n",
      "1.2 12.0 49.014847 1.9725025\n",
      "1.3 13.0 71.97888 2.8062494\n",
      "1.4 14.0 106.176414 4.02327\n",
      "1.5 15.0 157.3235 5.809475\n",
      "1.6 16.0 234.14099 8.444851\n",
      "1.7 17.0 349.97943 12.352738\n",
      "1.8 18.0 525.3445 18.17567\n",
      "1.9 19.0 791.83435 26.892538\n"
     ]
    }
   ],
   "source": [
    "a = tf.Variable( 1.0 )\n",
    "b = tf.Variable( 10.0 )\n",
    "\n",
    "for _ in range(10):\n",
    "    with tf.GradientTape() as tape:\n",
    "        \n",
    "        #operate\n",
    "        c = b ** a        \n",
    "        \n",
    "        #frame for gradient\n",
    "        gradient = tape.gradient( c , [ a , b ] )\n",
    "        \n",
    "        print( a.numpy() , b.numpy() , gradient[0].numpy() , gradient[1].numpy() )\n",
    "        \n",
    "        # change or assign\n",
    "        b.assign_add( 1 )\n",
    "        a.assign( b / 10 )\n"
   ]
  },
  {
   "cell_type": "markdown",
   "metadata": {},
   "source": [
    "#### end\n"
   ]
  },
  {
   "cell_type": "code",
   "execution_count": 25,
   "metadata": {},
   "outputs": [],
   "source": [
    "def mean_squared_error( y , y_pred ):\n",
    "    return tf.reduce_mean( tf.square( y - y_pred ) )\n",
    "\n",
    "def root_mean_squared_error( y , y_pred ):\n",
    "    return tf.sqrt( tf.reduce_mean( tf.square( y - y_pred ) ) )\n",
    "\n",
    "def predict( x , w , b ):\n",
    "    return w * x + b"
   ]
  },
  {
   "cell_type": "code",
   "execution_count": 26,
   "metadata": {},
   "outputs": [
    {
     "name": "stdout",
     "output_type": "stream",
     "text": [
      "step 0   :   0.016453539952635765   -   0.0301330778747797 --------- 0.02353351190686226\n",
      "step 50   :   0.0796620324254036   -   0.1116870641708374 --------- 0.00012954065459780395\n",
      "step 100   :   0.0883345752954483   -   0.10710641741752625 --------- 0.0001093776518246159\n",
      "step 150   :   0.09311257302761078   -   0.1045827567577362 --------- 0.00010325756738893688\n",
      "step 200   :   0.09574492275714874   -   0.10319238156080246 --------- 0.00010139994992641732\n",
      "step 250   :   0.09719519317150116   -   0.10242637991905212 --------- 0.0001008361141430214\n",
      "step 300   :   0.09799420088529587   -   0.10200435668230057 --------- 0.00010066496906802058\n",
      "step 350   :   0.09843439608812332   -   0.10177185386419296 --------- 0.0001006130114546977\n",
      "step 400   :   0.09867693483829498   -   0.10164374858140945 --------- 0.00010059725173050538\n",
      "step 450   :   0.09881053119897842   -   0.10157318413257599 --------- 0.00010059248597826809\n"
     ]
    }
   ],
   "source": [
    "w = tf.Variable(0.0) # should be a variable because it changes\n",
    "b = tf.Variable(0.0)\n",
    "\n",
    "learning_rate = tf.constant( 0.1 ) #doesn't change\n",
    "steps = 500\n",
    "\n",
    "for step in range(steps):\n",
    "    with tf.GradientTape() as tape:\n",
    "        y_pred = predict( x , w , b )\n",
    "        loss = mean_squared_error( y , y_pred )\n",
    "        \n",
    "        gradients = tape.gradient( loss , [ w , b ]) #get change in loss because of w and b\n",
    "        # d(loss)/d(w)   and    d(loss)/d(b)\n",
    "        \n",
    "        w.assign_sub(gradients[0] * learning_rate) # subtract the change step by step\n",
    "        b.assign_sub(gradients[1] * learning_rate)\n",
    "        \n",
    "        if step % 50 == 0 :\n",
    "            print(\"step {}   :   {}   -   {} --------- {}\".format( step , w.numpy() , b.numpy() , loss ).center(50) )\n"
   ]
  },
  {
   "cell_type": "code",
   "execution_count": 27,
   "metadata": {},
   "outputs": [
    {
     "name": "stdout",
     "output_type": "stream",
     "text": [
      "step 0   :   1.036843180656433   -   -0.9064370393753052 --------- 0.6987613439559937\n",
      "step 50   :   0.20905694365501404   -   0.043342772871255875 --------- 0.03738534078001976\n",
      "step 100   :   0.0721927061676979   -   0.050700217485427856 --------- 0.060838647186756134\n",
      "step 150   :   0.07300178706645966   -   0.05231248587369919 --------- 0.0629514828324318\n",
      "step 200   :   0.0730646550655365   -   0.052432164549827576 --------- 0.06310947239398956\n",
      "step 250   :   0.07306940853595734   -   0.05244117230176926 --------- 0.06312135607004166\n",
      "step 300   :   0.07306976616382599   -   0.05244176834821701 --------- 0.06312216818332672\n",
      "step 350   :   0.07306976616382599   -   0.05244176834821701 --------- 0.06312216818332672\n",
      "step 400   :   0.07306976616382599   -   0.05244176834821701 --------- 0.06312216818332672\n",
      "step 450   :   0.07306976616382599   -   0.05244176834821701 --------- 0.06312216818332672\n"
     ]
    }
   ],
   "source": [
    "w = tf.Variable(1.0) # should be a variable because it changes\n",
    "b = tf.Variable(-1.0)\n",
    "\n",
    "learning_rate = tf.constant( 0.1 ) #doesn't change\n",
    "steps = 500\n",
    "\n",
    "\n",
    "for step in range(steps):\n",
    "    with tf.GradientTape() as tape:\n",
    "        y_pred = predict( x , w , b )\n",
    "        loss = root_mean_squared_error( y , y_pred )\n",
    "        \n",
    "        gradients = tape.gradient( loss , [ w , b ]) #get change in loss because of w and b\n",
    "        # d(loss)/d(w)   and    d(loss)/d(b)\n",
    "        \n",
    "        w.assign_sub(gradients[0] * learning_rate) # subtract the change step by step\n",
    "        b.assign_sub(gradients[1] * learning_rate)\n",
    "        \n",
    "        if step % 50 == 0 :\n",
    "            print(\"step {}   :   {}   -   {} --------- {}\".format( step , w.numpy() , b.numpy() , loss ).center(50) )"
   ]
  },
  {
   "cell_type": "markdown",
   "metadata": {},
   "source": [
    "##### learning rate should not be too slow so that steps never make it near to true value\n",
    "\n",
    "\n",
    "\n",
    "\n",
    "\n",
    "\n",
    "\n",
    "\n",
    "\n",
    "\n",
    "."
   ]
  },
  {
   "cell_type": "markdown",
   "metadata": {},
   "source": [
    "# 3D plotting"
   ]
  },
  {
   "cell_type": "code",
   "execution_count": 28,
   "metadata": {},
   "outputs": [],
   "source": [
    "import numpy as np\n",
    "from mpl_toolkits.mplot3d import Axes3D"
   ]
  },
  {
   "cell_type": "code",
   "execution_count": 29,
   "metadata": {},
   "outputs": [
    {
     "data": {
      "text/plain": [
       "\u001b[1;31mSignature:\u001b[0m\n",
       "\u001b[0mnp\u001b[0m\u001b[1;33m.\u001b[0m\u001b[0mlinspace\u001b[0m\u001b[1;33m(\u001b[0m\u001b[1;33m\n",
       "\u001b[0m    \u001b[0mstart\u001b[0m\u001b[1;33m,\u001b[0m\u001b[1;33m\n",
       "\u001b[0m    \u001b[0mstop\u001b[0m\u001b[1;33m,\u001b[0m\u001b[1;33m\n",
       "\u001b[0m    \u001b[0mnum\u001b[0m\u001b[1;33m=\u001b[0m\u001b[1;36m50\u001b[0m\u001b[1;33m,\u001b[0m\u001b[1;33m\n",
       "\u001b[0m    \u001b[0mendpoint\u001b[0m\u001b[1;33m=\u001b[0m\u001b[1;32mTrue\u001b[0m\u001b[1;33m,\u001b[0m\u001b[1;33m\n",
       "\u001b[0m    \u001b[0mretstep\u001b[0m\u001b[1;33m=\u001b[0m\u001b[1;32mFalse\u001b[0m\u001b[1;33m,\u001b[0m\u001b[1;33m\n",
       "\u001b[0m    \u001b[0mdtype\u001b[0m\u001b[1;33m=\u001b[0m\u001b[1;32mNone\u001b[0m\u001b[1;33m,\u001b[0m\u001b[1;33m\n",
       "\u001b[0m    \u001b[0maxis\u001b[0m\u001b[1;33m=\u001b[0m\u001b[1;36m0\u001b[0m\u001b[1;33m,\u001b[0m\u001b[1;33m\n",
       "\u001b[0m\u001b[1;33m)\u001b[0m\u001b[1;33m\u001b[0m\u001b[1;33m\u001b[0m\u001b[0m\n",
       "\u001b[1;31mDocstring:\u001b[0m\n",
       "Return evenly spaced numbers over a specified interval.\n",
       "\n",
       "Returns `num` evenly spaced samples, calculated over the\n",
       "interval [`start`, `stop`].\n",
       "\n",
       "The endpoint of the interval can optionally be excluded.\n",
       "\n",
       ".. versionchanged:: 1.16.0\n",
       "    Non-scalar `start` and `stop` are now supported.\n",
       "\n",
       "Parameters\n",
       "----------\n",
       "start : array_like\n",
       "    The starting value of the sequence.\n",
       "stop : array_like\n",
       "    The end value of the sequence, unless `endpoint` is set to False.\n",
       "    In that case, the sequence consists of all but the last of ``num + 1``\n",
       "    evenly spaced samples, so that `stop` is excluded.  Note that the step\n",
       "    size changes when `endpoint` is False.\n",
       "num : int, optional\n",
       "    Number of samples to generate. Default is 50. Must be non-negative.\n",
       "endpoint : bool, optional\n",
       "    If True, `stop` is the last sample. Otherwise, it is not included.\n",
       "    Default is True.\n",
       "retstep : bool, optional\n",
       "    If True, return (`samples`, `step`), where `step` is the spacing\n",
       "    between samples.\n",
       "dtype : dtype, optional\n",
       "    The type of the output array.  If `dtype` is not given, infer the data\n",
       "    type from the other input arguments.\n",
       "\n",
       "    .. versionadded:: 1.9.0\n",
       "\n",
       "axis : int, optional\n",
       "    The axis in the result to store the samples.  Relevant only if start\n",
       "    or stop are array-like.  By default (0), the samples will be along a\n",
       "    new axis inserted at the beginning. Use -1 to get an axis at the end.\n",
       "\n",
       "    .. versionadded:: 1.16.0\n",
       "\n",
       "Returns\n",
       "-------\n",
       "samples : ndarray\n",
       "    There are `num` equally spaced samples in the closed interval\n",
       "    ``[start, stop]`` or the half-open interval ``[start, stop)``\n",
       "    (depending on whether `endpoint` is True or False).\n",
       "step : float, optional\n",
       "    Only returned if `retstep` is True\n",
       "\n",
       "    Size of spacing between samples.\n",
       "\n",
       "\n",
       "See Also\n",
       "--------\n",
       "arange : Similar to `linspace`, but uses a step size (instead of the\n",
       "         number of samples).\n",
       "geomspace : Similar to `linspace`, but with numbers spaced evenly on a log\n",
       "            scale (a geometric progression).\n",
       "logspace : Similar to `geomspace`, but with the end points specified as\n",
       "           logarithms.\n",
       "\n",
       "Examples\n",
       "--------\n",
       ">>> np.linspace(2.0, 3.0, num=5)\n",
       "array([2.  , 2.25, 2.5 , 2.75, 3.  ])\n",
       ">>> np.linspace(2.0, 3.0, num=5, endpoint=False)\n",
       "array([2. ,  2.2,  2.4,  2.6,  2.8])\n",
       ">>> np.linspace(2.0, 3.0, num=5, retstep=True)\n",
       "(array([2.  ,  2.25,  2.5 ,  2.75,  3.  ]), 0.25)\n",
       "\n",
       "Graphical illustration:\n",
       "\n",
       ">>> import matplotlib.pyplot as plt\n",
       ">>> N = 8\n",
       ">>> y = np.zeros(N)\n",
       ">>> x1 = np.linspace(0, 10, N, endpoint=True)\n",
       ">>> x2 = np.linspace(0, 10, N, endpoint=False)\n",
       ">>> plt.plot(x1, y, 'o')\n",
       "[<matplotlib.lines.Line2D object at 0x...>]\n",
       ">>> plt.plot(x2, y + 0.5, 'o')\n",
       "[<matplotlib.lines.Line2D object at 0x...>]\n",
       ">>> plt.ylim([-0.5, 1])\n",
       "(-0.5, 1)\n",
       ">>> plt.show()\n",
       "\u001b[1;31mFile:\u001b[0m      c:\\src\\python\\envs\\ml\\tensorflow\\lib\\site-packages\\numpy\\core\\function_base.py\n",
       "\u001b[1;31mType:\u001b[0m      function\n"
      ]
     },
     "metadata": {},
     "output_type": "display_data"
    }
   ],
   "source": [
    "np.linspace?"
   ]
  },
  {
   "cell_type": "code",
   "execution_count": 30,
   "metadata": {},
   "outputs": [
    {
     "data": {
      "text/plain": [
       "\u001b[1;31mSignature:\u001b[0m \u001b[0mnp\u001b[0m\u001b[1;33m.\u001b[0m\u001b[0mmeshgrid\u001b[0m\u001b[1;33m(\u001b[0m\u001b[1;33m*\u001b[0m\u001b[0mxi\u001b[0m\u001b[1;33m,\u001b[0m \u001b[1;33m**\u001b[0m\u001b[0mkwargs\u001b[0m\u001b[1;33m)\u001b[0m\u001b[1;33m\u001b[0m\u001b[1;33m\u001b[0m\u001b[0m\n",
       "\u001b[1;31mDocstring:\u001b[0m\n",
       "Return coordinate matrices from coordinate vectors.\n",
       "\n",
       "Make N-D coordinate arrays for vectorized evaluations of\n",
       "N-D scalar/vector fields over N-D grids, given\n",
       "one-dimensional coordinate arrays x1, x2,..., xn.\n",
       "\n",
       ".. versionchanged:: 1.9\n",
       "   1-D and 0-D cases are allowed.\n",
       "\n",
       "Parameters\n",
       "----------\n",
       "x1, x2,..., xn : array_like\n",
       "    1-D arrays representing the coordinates of a grid.\n",
       "indexing : {'xy', 'ij'}, optional\n",
       "    Cartesian ('xy', default) or matrix ('ij') indexing of output.\n",
       "    See Notes for more details.\n",
       "\n",
       "    .. versionadded:: 1.7.0\n",
       "sparse : bool, optional\n",
       "    If True a sparse grid is returned in order to conserve memory.\n",
       "    Default is False.\n",
       "\n",
       "    .. versionadded:: 1.7.0\n",
       "copy : bool, optional\n",
       "    If False, a view into the original arrays are returned in order to\n",
       "    conserve memory.  Default is True.  Please note that\n",
       "    ``sparse=False, copy=False`` will likely return non-contiguous\n",
       "    arrays.  Furthermore, more than one element of a broadcast array\n",
       "    may refer to a single memory location.  If you need to write to the\n",
       "    arrays, make copies first.\n",
       "\n",
       "    .. versionadded:: 1.7.0\n",
       "\n",
       "Returns\n",
       "-------\n",
       "X1, X2,..., XN : ndarray\n",
       "    For vectors `x1`, `x2`,..., 'xn' with lengths ``Ni=len(xi)`` ,\n",
       "    return ``(N1, N2, N3,...Nn)`` shaped arrays if indexing='ij'\n",
       "    or ``(N2, N1, N3,...Nn)`` shaped arrays if indexing='xy'\n",
       "    with the elements of `xi` repeated to fill the matrix along\n",
       "    the first dimension for `x1`, the second for `x2` and so on.\n",
       "\n",
       "Notes\n",
       "-----\n",
       "This function supports both indexing conventions through the indexing\n",
       "keyword argument.  Giving the string 'ij' returns a meshgrid with\n",
       "matrix indexing, while 'xy' returns a meshgrid with Cartesian indexing.\n",
       "In the 2-D case with inputs of length M and N, the outputs are of shape\n",
       "(N, M) for 'xy' indexing and (M, N) for 'ij' indexing.  In the 3-D case\n",
       "with inputs of length M, N and P, outputs are of shape (N, M, P) for\n",
       "'xy' indexing and (M, N, P) for 'ij' indexing.  The difference is\n",
       "illustrated by the following code snippet::\n",
       "\n",
       "    xv, yv = np.meshgrid(x, y, sparse=False, indexing='ij')\n",
       "    for i in range(nx):\n",
       "        for j in range(ny):\n",
       "            # treat xv[i,j], yv[i,j]\n",
       "\n",
       "    xv, yv = np.meshgrid(x, y, sparse=False, indexing='xy')\n",
       "    for i in range(nx):\n",
       "        for j in range(ny):\n",
       "            # treat xv[j,i], yv[j,i]\n",
       "\n",
       "In the 1-D and 0-D case, the indexing and sparse keywords have no effect.\n",
       "\n",
       "See Also\n",
       "--------\n",
       "index_tricks.mgrid : Construct a multi-dimensional \"meshgrid\"\n",
       "                 using indexing notation.\n",
       "index_tricks.ogrid : Construct an open multi-dimensional \"meshgrid\"\n",
       "                 using indexing notation.\n",
       "\n",
       "Examples\n",
       "--------\n",
       ">>> nx, ny = (3, 2)\n",
       ">>> x = np.linspace(0, 1, nx)\n",
       ">>> y = np.linspace(0, 1, ny)\n",
       ">>> xv, yv = np.meshgrid(x, y)\n",
       ">>> xv\n",
       "array([[0. , 0.5, 1. ],\n",
       "       [0. , 0.5, 1. ]])\n",
       ">>> yv\n",
       "array([[0.,  0.,  0.],\n",
       "       [1.,  1.,  1.]])\n",
       ">>> xv, yv = np.meshgrid(x, y, sparse=True)  # make sparse output arrays\n",
       ">>> xv\n",
       "array([[0. ,  0.5,  1. ]])\n",
       ">>> yv\n",
       "array([[0.],\n",
       "       [1.]])\n",
       "\n",
       "`meshgrid` is very useful to evaluate functions on a grid.\n",
       "\n",
       ">>> import matplotlib.pyplot as plt\n",
       ">>> x = np.arange(-5, 5, 0.1)\n",
       ">>> y = np.arange(-5, 5, 0.1)\n",
       ">>> xx, yy = np.meshgrid(x, y, sparse=True)\n",
       ">>> z = np.sin(xx**2 + yy**2) / (xx**2 + yy**2)\n",
       ">>> h = plt.contourf(x,y,z)\n",
       ">>> plt.show()\n",
       "\u001b[1;31mFile:\u001b[0m      c:\\src\\python\\envs\\ml\\tensorflow\\lib\\site-packages\\numpy\\lib\\function_base.py\n",
       "\u001b[1;31mType:\u001b[0m      function\n"
      ]
     },
     "metadata": {},
     "output_type": "display_data"
    }
   ],
   "source": [
    "np.meshgrid?"
   ]
  },
  {
   "cell_type": "markdown",
   "metadata": {},
   "source": []
  },
  {
   "cell_type": "code",
   "execution_count": null,
   "metadata": {},
   "outputs": [],
   "source": []
  }
 ],
 "metadata": {
  "kernelspec": {
   "display_name": "tensorflow",
   "language": "python",
   "name": "tensorflow"
  },
  "language_info": {
   "codemirror_mode": {
    "name": "ipython",
    "version": 3
   },
   "file_extension": ".py",
   "mimetype": "text/x-python",
   "name": "python",
   "nbconvert_exporter": "python",
   "pygments_lexer": "ipython3",
   "version": "3.7.6"
  }
 },
 "nbformat": 4,
 "nbformat_minor": 4
}
